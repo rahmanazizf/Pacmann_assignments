{
 "cells": [
  {
   "attachments": {},
   "cell_type": "markdown",
   "metadata": {},
   "source": [
    "# Pandas Data Structure"
   ]
  },
  {
   "attachments": {},
   "cell_type": "markdown",
   "metadata": {},
   "source": [
    "## Case 1: Mengolah Nilai Mahasiswa"
   ]
  },
  {
   "cell_type": "code",
   "execution_count": 1,
   "metadata": {},
   "outputs": [],
   "source": [
    "import pandas as pd"
   ]
  },
  {
   "cell_type": "code",
   "execution_count": 2,
   "metadata": {},
   "outputs": [],
   "source": [
    "# buat data nilai dalam bentuk python dictionary\n",
    "data_nilai = {\n",
    "    \"Juchiro\": 83.54,\n",
    "    \"Fandy\":86.79,\n",
    "    \"Erlangga\":88.57,\n",
    "    \"Matheos\":71.48,\n",
    "    \"Sugeng\":72.65,\n",
    "    \"Atma\":92.73,\n",
    "    \"Muliana\":83.22,\n",
    "    \"Iyya\":77.72,\n",
    "    \"Budiarto\":85.09,\n",
    "    \"Afendy\":88.98,\n",
    "    \"Muhaimin\":68.40,\n",
    "}"
   ]
  },
  {
   "cell_type": "code",
   "execution_count": 17,
   "metadata": {},
   "outputs": [
    {
     "data": {
      "text/plain": [
       "Juchiro     83.54\n",
       "Fandy       86.79\n",
       "Erlangga    88.57\n",
       "Matheos     71.48\n",
       "Sugeng      72.65\n",
       "Atma        92.73\n",
       "Muliana     83.22\n",
       "Iyya        77.72\n",
       "Budiarto    85.09\n",
       "Afendy      88.98\n",
       "Muhaimin    68.40\n",
       "dtype: float64"
      ]
     },
     "execution_count": 17,
     "metadata": {},
     "output_type": "execute_result"
    }
   ],
   "source": [
    "nilai_mahasiswa = pd.Series(data_nilai)\n",
    "nilai_mahasiswa"
   ]
  },
  {
   "cell_type": "code",
   "execution_count": 4,
   "metadata": {},
   "outputs": [
    {
     "name": "stdout",
     "output_type": "stream",
     "text": [
      "Nilai Fandy: 86.79\n"
     ]
    }
   ],
   "source": [
    "# tampilkan nilai Fandy\n",
    "print(f\"Nilai Fandy: {nilai_mahasiswa['Fandy']}\")"
   ]
  },
  {
   "cell_type": "code",
   "execution_count": 7,
   "metadata": {},
   "outputs": [
    {
     "name": "stdout",
     "output_type": "stream",
     "text": [
      "Nilai Sugeng, Budiarto, dan Muhaimin\n",
      "Sugeng      72.65\n",
      "Budiarto    85.09\n",
      "Muhaimin    68.40\n",
      "dtype: float64\n"
     ]
    }
   ],
   "source": [
    "# tampilkan nilai Sugeng, Budiarto, dan Muhaimin\n",
    "print(\"Nilai Sugeng, Budiarto, dan Muhaimin\")\n",
    "print(nilai_mahasiswa[['Sugeng', 'Budiarto', 'Muhaimin']])"
   ]
  },
  {
   "cell_type": "code",
   "execution_count": 18,
   "metadata": {},
   "outputs": [
    {
     "data": {
      "text/plain": [
       "Juchiro     83.54\n",
       "Fandy       86.79\n",
       "Erlangga    88.57\n",
       "Matheos     71.48\n",
       "Sugeng      72.65\n",
       "Atma        92.73\n",
       "Muliana     83.22\n",
       "Iyya        77.72\n",
       "Budiarto    85.09\n",
       "Afendy      88.98\n",
       "Muhaimin    68.40\n",
       "Yusril      86.35\n",
       "Priyo       74.73\n",
       "Yosua       79.12\n",
       "dtype: float64"
      ]
     },
     "execution_count": 18,
     "metadata": {},
     "output_type": "execute_result"
    }
   ],
   "source": [
    "# buat data baru dalam bentuk python dictionary\n",
    "new_data_nilai = {\n",
    "    \"Yusril\": 86.35,\n",
    "    \"Priyo\":74.73,\n",
    "    \"Yosua\":79.12\n",
    "}\n",
    "\n",
    "# tambahkan nilai baru ke dalam data sebelumnya\n",
    "nilai_mahasiswa = pd.concat([nilai_mahasiswa, pd.Series(new_data_nilai)])\n",
    "nilai_mahasiswa"
   ]
  },
  {
   "attachments": {},
   "cell_type": "markdown",
   "metadata": {},
   "source": [
    "Export data terbaru menjadi csv"
   ]
  },
  {
   "cell_type": "code",
   "execution_count": 12,
   "metadata": {},
   "outputs": [],
   "source": [
    "nilai_mahasiswa.to_csv('nilai_mahasiswa_updated.csv')"
   ]
  },
  {
   "attachments": {},
   "cell_type": "markdown",
   "metadata": {},
   "source": [
    "### Exercise"
   ]
  },
  {
   "attachments": {},
   "cell_type": "markdown",
   "metadata": {},
   "source": [
    "1. Ubah nilai Afendy dan Sugeng masing-masing menjadi 85.5 dan 77.77 \n",
    "2. Ubah data nilai tersebut menjadi rentang nilai 1-10\n",
    "3. Hapus nilai Matheos dan Fandy\n",
    "4. Export data menjadi data excel"
   ]
  },
  {
   "cell_type": "code",
   "execution_count": 19,
   "metadata": {},
   "outputs": [],
   "source": [
    "# ubah nilai Afendy dan Sugeng\n",
    "nilai_mahasiswa['Afendy'], nilai_mahasiswa['Sugeng'] = 85.5, 77.77"
   ]
  },
  {
   "cell_type": "code",
   "execution_count": 20,
   "metadata": {},
   "outputs": [
    {
     "data": {
      "text/plain": [
       "Juchiro     8.354\n",
       "Fandy       8.679\n",
       "Erlangga    8.857\n",
       "Matheos     7.148\n",
       "Sugeng      7.777\n",
       "Atma        9.273\n",
       "Muliana     8.322\n",
       "Iyya        7.772\n",
       "Budiarto    8.509\n",
       "Afendy      8.550\n",
       "Muhaimin    6.840\n",
       "Yusril      8.635\n",
       "Priyo       7.473\n",
       "Yosua       7.912\n",
       "dtype: float64"
      ]
     },
     "execution_count": 20,
     "metadata": {},
     "output_type": "execute_result"
    }
   ],
   "source": [
    "# ubah rentang nilai menjadi 1-10\n",
    "nilai_mahasiswa /= 10\n",
    "nilai_mahasiswa"
   ]
  },
  {
   "cell_type": "code",
   "execution_count": 21,
   "metadata": {},
   "outputs": [],
   "source": [
    "# hapus nilai Matheos dan Fandy\n",
    "nilai_mahasiswa.drop(['Matheos', 'Fandy'], inplace=True)"
   ]
  },
  {
   "cell_type": "code",
   "execution_count": 22,
   "metadata": {},
   "outputs": [
    {
     "data": {
      "text/plain": [
       "Juchiro     8.354\n",
       "Erlangga    8.857\n",
       "Sugeng      7.777\n",
       "Atma        9.273\n",
       "Muliana     8.322\n",
       "Iyya        7.772\n",
       "Budiarto    8.509\n",
       "Afendy      8.550\n",
       "Muhaimin    6.840\n",
       "Yusril      8.635\n",
       "Priyo       7.473\n",
       "Yosua       7.912\n",
       "dtype: float64"
      ]
     },
     "execution_count": 22,
     "metadata": {},
     "output_type": "execute_result"
    }
   ],
   "source": [
    "nilai_mahasiswa"
   ]
  },
  {
   "cell_type": "code",
   "execution_count": 23,
   "metadata": {},
   "outputs": [],
   "source": [
    "nilai_mahasiswa.to_excel('nilai_mahasiswa_updated.xlsx')"
   ]
  },
  {
   "attachments": {},
   "cell_type": "markdown",
   "metadata": {},
   "source": [
    "### Case 2: Data Pelanggan Mall"
   ]
  },
  {
   "cell_type": "code",
   "execution_count": 71,
   "metadata": {},
   "outputs": [
    {
     "data": {
      "text/html": [
       "<div>\n",
       "<style scoped>\n",
       "    .dataframe tbody tr th:only-of-type {\n",
       "        vertical-align: middle;\n",
       "    }\n",
       "\n",
       "    .dataframe tbody tr th {\n",
       "        vertical-align: top;\n",
       "    }\n",
       "\n",
       "    .dataframe thead th {\n",
       "        text-align: right;\n",
       "    }\n",
       "</style>\n",
       "<table border=\"1\" class=\"dataframe\">\n",
       "  <thead>\n",
       "    <tr style=\"text-align: right;\">\n",
       "      <th></th>\n",
       "      <th>CustomerID</th>\n",
       "      <th>Genre</th>\n",
       "      <th>Age</th>\n",
       "      <th>Annual_Income_(k$)</th>\n",
       "      <th>Spending_Score</th>\n",
       "    </tr>\n",
       "  </thead>\n",
       "  <tbody>\n",
       "    <tr>\n",
       "      <th>0</th>\n",
       "      <td>1</td>\n",
       "      <td>Male</td>\n",
       "      <td>19</td>\n",
       "      <td>15</td>\n",
       "      <td>39</td>\n",
       "    </tr>\n",
       "    <tr>\n",
       "      <th>1</th>\n",
       "      <td>2</td>\n",
       "      <td>Male</td>\n",
       "      <td>21</td>\n",
       "      <td>15</td>\n",
       "      <td>81</td>\n",
       "    </tr>\n",
       "    <tr>\n",
       "      <th>2</th>\n",
       "      <td>3</td>\n",
       "      <td>Female</td>\n",
       "      <td>20</td>\n",
       "      <td>16</td>\n",
       "      <td>6</td>\n",
       "    </tr>\n",
       "    <tr>\n",
       "      <th>3</th>\n",
       "      <td>4</td>\n",
       "      <td>Female</td>\n",
       "      <td>23</td>\n",
       "      <td>16</td>\n",
       "      <td>77</td>\n",
       "    </tr>\n",
       "    <tr>\n",
       "      <th>4</th>\n",
       "      <td>5</td>\n",
       "      <td>Female</td>\n",
       "      <td>31</td>\n",
       "      <td>17</td>\n",
       "      <td>40</td>\n",
       "    </tr>\n",
       "  </tbody>\n",
       "</table>\n",
       "</div>"
      ],
      "text/plain": [
       "   CustomerID   Genre  Age  Annual_Income_(k$)  Spending_Score\n",
       "0           1    Male   19                  15              39\n",
       "1           2    Male   21                  15              81\n",
       "2           3  Female   20                  16               6\n",
       "3           4  Female   23                  16              77\n",
       "4           5  Female   31                  17              40"
      ]
     },
     "execution_count": 71,
     "metadata": {},
     "output_type": "execute_result"
    }
   ],
   "source": [
    "mall_cust = pd.read_csv('Mall_Customers.csv')\n",
    "mall_cust.head()"
   ]
  },
  {
   "attachments": {},
   "cell_type": "markdown",
   "metadata": {},
   "source": [
    "Index pada data merupakan angka dari 0 hingga 199. Anda diminta untuk mengubah Index menjadi angka hasil penjumlahan 1000 dengan \"CustomerID\". Misalnya CustomerID = 9, index menjadi 1009. Kemudian hapus  kolom \"CustomerID\""
   ]
  },
  {
   "cell_type": "code",
   "execution_count": 72,
   "metadata": {},
   "outputs": [
    {
     "data": {
      "text/html": [
       "<div>\n",
       "<style scoped>\n",
       "    .dataframe tbody tr th:only-of-type {\n",
       "        vertical-align: middle;\n",
       "    }\n",
       "\n",
       "    .dataframe tbody tr th {\n",
       "        vertical-align: top;\n",
       "    }\n",
       "\n",
       "    .dataframe thead th {\n",
       "        text-align: right;\n",
       "    }\n",
       "</style>\n",
       "<table border=\"1\" class=\"dataframe\">\n",
       "  <thead>\n",
       "    <tr style=\"text-align: right;\">\n",
       "      <th></th>\n",
       "      <th>CustomerID</th>\n",
       "      <th>Genre</th>\n",
       "      <th>Age</th>\n",
       "      <th>Annual_Income_(k$)</th>\n",
       "      <th>Spending_Score</th>\n",
       "    </tr>\n",
       "    <tr>\n",
       "      <th>CustomerID</th>\n",
       "      <th></th>\n",
       "      <th></th>\n",
       "      <th></th>\n",
       "      <th></th>\n",
       "      <th></th>\n",
       "    </tr>\n",
       "  </thead>\n",
       "  <tbody>\n",
       "    <tr>\n",
       "      <th>1001</th>\n",
       "      <td>1</td>\n",
       "      <td>Male</td>\n",
       "      <td>19</td>\n",
       "      <td>15</td>\n",
       "      <td>39</td>\n",
       "    </tr>\n",
       "    <tr>\n",
       "      <th>1002</th>\n",
       "      <td>2</td>\n",
       "      <td>Male</td>\n",
       "      <td>21</td>\n",
       "      <td>15</td>\n",
       "      <td>81</td>\n",
       "    </tr>\n",
       "    <tr>\n",
       "      <th>1003</th>\n",
       "      <td>3</td>\n",
       "      <td>Female</td>\n",
       "      <td>20</td>\n",
       "      <td>16</td>\n",
       "      <td>6</td>\n",
       "    </tr>\n",
       "    <tr>\n",
       "      <th>1004</th>\n",
       "      <td>4</td>\n",
       "      <td>Female</td>\n",
       "      <td>23</td>\n",
       "      <td>16</td>\n",
       "      <td>77</td>\n",
       "    </tr>\n",
       "    <tr>\n",
       "      <th>1005</th>\n",
       "      <td>5</td>\n",
       "      <td>Female</td>\n",
       "      <td>31</td>\n",
       "      <td>17</td>\n",
       "      <td>40</td>\n",
       "    </tr>\n",
       "  </tbody>\n",
       "</table>\n",
       "</div>"
      ],
      "text/plain": [
       "            CustomerID   Genre  Age  Annual_Income_(k$)  Spending_Score\n",
       "CustomerID                                                             \n",
       "1001                 1    Male   19                  15              39\n",
       "1002                 2    Male   21                  15              81\n",
       "1003                 3  Female   20                  16               6\n",
       "1004                 4  Female   23                  16              77\n",
       "1005                 5  Female   31                  17              40"
      ]
     },
     "execution_count": 72,
     "metadata": {},
     "output_type": "execute_result"
    }
   ],
   "source": [
    "id_customer = mall_cust['CustomerID'] + 1000\n",
    "mall_cust.index = id_customer\n",
    "\n",
    "mall_cust.head()"
   ]
  },
  {
   "attachments": {},
   "cell_type": "markdown",
   "metadata": {},
   "source": [
    "Hapus kolom CustomerID"
   ]
  },
  {
   "cell_type": "code",
   "execution_count": 73,
   "metadata": {},
   "outputs": [],
   "source": [
    "mall_cust.drop('CustomerID', axis=1, inplace=True)"
   ]
  },
  {
   "cell_type": "code",
   "execution_count": 74,
   "metadata": {},
   "outputs": [
    {
     "data": {
      "text/html": [
       "<div>\n",
       "<style scoped>\n",
       "    .dataframe tbody tr th:only-of-type {\n",
       "        vertical-align: middle;\n",
       "    }\n",
       "\n",
       "    .dataframe tbody tr th {\n",
       "        vertical-align: top;\n",
       "    }\n",
       "\n",
       "    .dataframe thead th {\n",
       "        text-align: right;\n",
       "    }\n",
       "</style>\n",
       "<table border=\"1\" class=\"dataframe\">\n",
       "  <thead>\n",
       "    <tr style=\"text-align: right;\">\n",
       "      <th></th>\n",
       "      <th>Genre</th>\n",
       "      <th>Age</th>\n",
       "      <th>Annual_Income_(k$)</th>\n",
       "      <th>Spending_Score</th>\n",
       "    </tr>\n",
       "    <tr>\n",
       "      <th>CustomerID</th>\n",
       "      <th></th>\n",
       "      <th></th>\n",
       "      <th></th>\n",
       "      <th></th>\n",
       "    </tr>\n",
       "  </thead>\n",
       "  <tbody>\n",
       "    <tr>\n",
       "      <th>1001</th>\n",
       "      <td>Male</td>\n",
       "      <td>19</td>\n",
       "      <td>15</td>\n",
       "      <td>39</td>\n",
       "    </tr>\n",
       "    <tr>\n",
       "      <th>1002</th>\n",
       "      <td>Male</td>\n",
       "      <td>21</td>\n",
       "      <td>15</td>\n",
       "      <td>81</td>\n",
       "    </tr>\n",
       "    <tr>\n",
       "      <th>1003</th>\n",
       "      <td>Female</td>\n",
       "      <td>20</td>\n",
       "      <td>16</td>\n",
       "      <td>6</td>\n",
       "    </tr>\n",
       "    <tr>\n",
       "      <th>1004</th>\n",
       "      <td>Female</td>\n",
       "      <td>23</td>\n",
       "      <td>16</td>\n",
       "      <td>77</td>\n",
       "    </tr>\n",
       "    <tr>\n",
       "      <th>1005</th>\n",
       "      <td>Female</td>\n",
       "      <td>31</td>\n",
       "      <td>17</td>\n",
       "      <td>40</td>\n",
       "    </tr>\n",
       "  </tbody>\n",
       "</table>\n",
       "</div>"
      ],
      "text/plain": [
       "             Genre  Age  Annual_Income_(k$)  Spending_Score\n",
       "CustomerID                                                 \n",
       "1001          Male   19                  15              39\n",
       "1002          Male   21                  15              81\n",
       "1003        Female   20                  16               6\n",
       "1004        Female   23                  16              77\n",
       "1005        Female   31                  17              40"
      ]
     },
     "execution_count": 74,
     "metadata": {},
     "output_type": "execute_result"
    }
   ],
   "source": [
    "mall_cust.head()"
   ]
  },
  {
   "attachments": {},
   "cell_type": "markdown",
   "metadata": {},
   "source": [
    "Customer 1098 dan 1099 tidak lagi menjadi pelanggan pada mall tersebut. Anda diminta untuk menghapus data index 1098 dan 1099."
   ]
  },
  {
   "cell_type": "code",
   "execution_count": 75,
   "metadata": {},
   "outputs": [],
   "source": [
    "mall_cust.drop(index=[1098, 1099], axis=0, inplace=True)"
   ]
  },
  {
   "cell_type": "code",
   "execution_count": 76,
   "metadata": {},
   "outputs": [
    {
     "data": {
      "text/html": [
       "<div>\n",
       "<style scoped>\n",
       "    .dataframe tbody tr th:only-of-type {\n",
       "        vertical-align: middle;\n",
       "    }\n",
       "\n",
       "    .dataframe tbody tr th {\n",
       "        vertical-align: top;\n",
       "    }\n",
       "\n",
       "    .dataframe thead th {\n",
       "        text-align: right;\n",
       "    }\n",
       "</style>\n",
       "<table border=\"1\" class=\"dataframe\">\n",
       "  <thead>\n",
       "    <tr style=\"text-align: right;\">\n",
       "      <th></th>\n",
       "      <th>Genre</th>\n",
       "      <th>Age</th>\n",
       "      <th>Annual_Income_(k$)</th>\n",
       "      <th>Spending_Score</th>\n",
       "    </tr>\n",
       "  </thead>\n",
       "  <tbody>\n",
       "    <tr>\n",
       "      <th>1201</th>\n",
       "      <td>Male</td>\n",
       "      <td>22</td>\n",
       "      <td>20</td>\n",
       "      <td>83</td>\n",
       "    </tr>\n",
       "  </tbody>\n",
       "</table>\n",
       "</div>"
      ],
      "text/plain": [
       "     Genre  Age  Annual_Income_(k$)  Spending_Score\n",
       "1201  Male   22                  20              83"
      ]
     },
     "execution_count": 76,
     "metadata": {},
     "output_type": "execute_result"
    }
   ],
   "source": [
    "# buat dataframe dari data baru tersebut\n",
    "new_row = pd.DataFrame({\n",
    "    \"Genre\": \"Male\", \n",
    "    \"Age\": 22, \n",
    "    \"Annual_Income_(k$)\": 20,\n",
    "    \"Spending_Score\": 83 },\n",
    "    index = [1201])\n",
    "\n",
    "# tampilkan data baru\n",
    "new_row"
   ]
  },
  {
   "cell_type": "code",
   "execution_count": 77,
   "metadata": {},
   "outputs": [
    {
     "data": {
      "text/html": [
       "<div>\n",
       "<style scoped>\n",
       "    .dataframe tbody tr th:only-of-type {\n",
       "        vertical-align: middle;\n",
       "    }\n",
       "\n",
       "    .dataframe tbody tr th {\n",
       "        vertical-align: top;\n",
       "    }\n",
       "\n",
       "    .dataframe thead th {\n",
       "        text-align: right;\n",
       "    }\n",
       "</style>\n",
       "<table border=\"1\" class=\"dataframe\">\n",
       "  <thead>\n",
       "    <tr style=\"text-align: right;\">\n",
       "      <th></th>\n",
       "      <th>Genre</th>\n",
       "      <th>Age</th>\n",
       "      <th>Annual_Income_(k$)</th>\n",
       "      <th>Spending_Score</th>\n",
       "    </tr>\n",
       "  </thead>\n",
       "  <tbody>\n",
       "    <tr>\n",
       "      <th>1001</th>\n",
       "      <td>Male</td>\n",
       "      <td>19</td>\n",
       "      <td>15</td>\n",
       "      <td>39</td>\n",
       "    </tr>\n",
       "    <tr>\n",
       "      <th>1002</th>\n",
       "      <td>Male</td>\n",
       "      <td>21</td>\n",
       "      <td>15</td>\n",
       "      <td>81</td>\n",
       "    </tr>\n",
       "    <tr>\n",
       "      <th>1003</th>\n",
       "      <td>Female</td>\n",
       "      <td>20</td>\n",
       "      <td>16</td>\n",
       "      <td>6</td>\n",
       "    </tr>\n",
       "    <tr>\n",
       "      <th>1004</th>\n",
       "      <td>Female</td>\n",
       "      <td>23</td>\n",
       "      <td>16</td>\n",
       "      <td>77</td>\n",
       "    </tr>\n",
       "    <tr>\n",
       "      <th>1005</th>\n",
       "      <td>Female</td>\n",
       "      <td>31</td>\n",
       "      <td>17</td>\n",
       "      <td>40</td>\n",
       "    </tr>\n",
       "    <tr>\n",
       "      <th>...</th>\n",
       "      <td>...</td>\n",
       "      <td>...</td>\n",
       "      <td>...</td>\n",
       "      <td>...</td>\n",
       "    </tr>\n",
       "    <tr>\n",
       "      <th>1197</th>\n",
       "      <td>Female</td>\n",
       "      <td>45</td>\n",
       "      <td>126</td>\n",
       "      <td>28</td>\n",
       "    </tr>\n",
       "    <tr>\n",
       "      <th>1198</th>\n",
       "      <td>Male</td>\n",
       "      <td>32</td>\n",
       "      <td>126</td>\n",
       "      <td>74</td>\n",
       "    </tr>\n",
       "    <tr>\n",
       "      <th>1199</th>\n",
       "      <td>Male</td>\n",
       "      <td>32</td>\n",
       "      <td>137</td>\n",
       "      <td>18</td>\n",
       "    </tr>\n",
       "    <tr>\n",
       "      <th>1200</th>\n",
       "      <td>Male</td>\n",
       "      <td>30</td>\n",
       "      <td>137</td>\n",
       "      <td>83</td>\n",
       "    </tr>\n",
       "    <tr>\n",
       "      <th>1201</th>\n",
       "      <td>Male</td>\n",
       "      <td>22</td>\n",
       "      <td>20</td>\n",
       "      <td>83</td>\n",
       "    </tr>\n",
       "  </tbody>\n",
       "</table>\n",
       "<p>199 rows × 4 columns</p>\n",
       "</div>"
      ],
      "text/plain": [
       "       Genre  Age  Annual_Income_(k$)  Spending_Score\n",
       "1001    Male   19                  15              39\n",
       "1002    Male   21                  15              81\n",
       "1003  Female   20                  16               6\n",
       "1004  Female   23                  16              77\n",
       "1005  Female   31                  17              40\n",
       "...      ...  ...                 ...             ...\n",
       "1197  Female   45                 126              28\n",
       "1198    Male   32                 126              74\n",
       "1199    Male   32                 137              18\n",
       "1200    Male   30                 137              83\n",
       "1201    Male   22                  20              83\n",
       "\n",
       "[199 rows x 4 columns]"
      ]
     },
     "execution_count": 77,
     "metadata": {},
     "output_type": "execute_result"
    }
   ],
   "source": [
    "# tambahkan data baru ke data yg sudah ada sebelumnya\n",
    "mall_cust = pd.concat([mall_cust, new_row], axis=0)\n",
    "mall_cust"
   ]
  },
  {
   "attachments": {},
   "cell_type": "markdown",
   "metadata": {},
   "source": [
    "Data income dan score kedepannya berpotensi berisi data float. Ubah type data income dan score menjadi float."
   ]
  },
  {
   "cell_type": "code",
   "execution_count": 78,
   "metadata": {},
   "outputs": [
    {
     "data": {
      "text/plain": [
       "Genre                  object\n",
       "Age                     int64\n",
       "Annual_Income_(k$)    float64\n",
       "Spending_Score        float64\n",
       "dtype: object"
      ]
     },
     "execution_count": 78,
     "metadata": {},
     "output_type": "execute_result"
    }
   ],
   "source": [
    "mall_cust['Annual_Income_(k$)'] = mall_cust['Annual_Income_(k$)'].astype('float')\n",
    "mall_cust['Spending_Score'] = mall_cust['Spending_Score'].astype('float')\n",
    "\n",
    "mall_cust.dtypes"
   ]
  },
  {
   "cell_type": "markdown",
   "metadata": {},
   "source": [
    "1. Ubah masing-masing header sesuai data berikut:\n",
    "  * Genre = JenisKelamin\n",
    "  * Age = Umur\n",
    "  * Annual_Income_(k$) = Pendapatan\n",
    "  * Spending_Score = Skor\n",
    "2. Tambah data berikut:\n",
    "\n",
    "||JenisKelamin|Umur|Pendapatan|Skor\n",
    "|-|-|-|-|-|\n",
    "|1202|Male|23|100.5|50.4\n",
    "|1205|Female|45|70.5|35.6\n",
    "|1207|Male|35|88.3|54.8\n",
    "\n",
    "3. Ubah umur data index 1200 menjadi 31 dan Update data index 1002 menjadi:\n",
    "\n",
    "||JenisKelamin|Umur|Pendapatan|Skor\n",
    "|-|-|-|-|-|\n",
    "|1002|Male|22|20|83\n",
    "\n",
    "4. Export data menjadi data excel"
   ]
  },
  {
   "cell_type": "code",
   "execution_count": 79,
   "metadata": {},
   "outputs": [
    {
     "data": {
      "text/html": [
       "<div>\n",
       "<style scoped>\n",
       "    .dataframe tbody tr th:only-of-type {\n",
       "        vertical-align: middle;\n",
       "    }\n",
       "\n",
       "    .dataframe tbody tr th {\n",
       "        vertical-align: top;\n",
       "    }\n",
       "\n",
       "    .dataframe thead th {\n",
       "        text-align: right;\n",
       "    }\n",
       "</style>\n",
       "<table border=\"1\" class=\"dataframe\">\n",
       "  <thead>\n",
       "    <tr style=\"text-align: right;\">\n",
       "      <th></th>\n",
       "      <th>JenisKelamin</th>\n",
       "      <th>Umur</th>\n",
       "      <th>Pendapatan</th>\n",
       "      <th>Skor</th>\n",
       "    </tr>\n",
       "  </thead>\n",
       "  <tbody>\n",
       "    <tr>\n",
       "      <th>1001</th>\n",
       "      <td>Male</td>\n",
       "      <td>19</td>\n",
       "      <td>15.0</td>\n",
       "      <td>39.0</td>\n",
       "    </tr>\n",
       "    <tr>\n",
       "      <th>1002</th>\n",
       "      <td>Male</td>\n",
       "      <td>21</td>\n",
       "      <td>15.0</td>\n",
       "      <td>81.0</td>\n",
       "    </tr>\n",
       "    <tr>\n",
       "      <th>1003</th>\n",
       "      <td>Female</td>\n",
       "      <td>20</td>\n",
       "      <td>16.0</td>\n",
       "      <td>6.0</td>\n",
       "    </tr>\n",
       "    <tr>\n",
       "      <th>1004</th>\n",
       "      <td>Female</td>\n",
       "      <td>23</td>\n",
       "      <td>16.0</td>\n",
       "      <td>77.0</td>\n",
       "    </tr>\n",
       "    <tr>\n",
       "      <th>1005</th>\n",
       "      <td>Female</td>\n",
       "      <td>31</td>\n",
       "      <td>17.0</td>\n",
       "      <td>40.0</td>\n",
       "    </tr>\n",
       "    <tr>\n",
       "      <th>...</th>\n",
       "      <td>...</td>\n",
       "      <td>...</td>\n",
       "      <td>...</td>\n",
       "      <td>...</td>\n",
       "    </tr>\n",
       "    <tr>\n",
       "      <th>1197</th>\n",
       "      <td>Female</td>\n",
       "      <td>45</td>\n",
       "      <td>126.0</td>\n",
       "      <td>28.0</td>\n",
       "    </tr>\n",
       "    <tr>\n",
       "      <th>1198</th>\n",
       "      <td>Male</td>\n",
       "      <td>32</td>\n",
       "      <td>126.0</td>\n",
       "      <td>74.0</td>\n",
       "    </tr>\n",
       "    <tr>\n",
       "      <th>1199</th>\n",
       "      <td>Male</td>\n",
       "      <td>32</td>\n",
       "      <td>137.0</td>\n",
       "      <td>18.0</td>\n",
       "    </tr>\n",
       "    <tr>\n",
       "      <th>1200</th>\n",
       "      <td>Male</td>\n",
       "      <td>30</td>\n",
       "      <td>137.0</td>\n",
       "      <td>83.0</td>\n",
       "    </tr>\n",
       "    <tr>\n",
       "      <th>1201</th>\n",
       "      <td>Male</td>\n",
       "      <td>22</td>\n",
       "      <td>20.0</td>\n",
       "      <td>83.0</td>\n",
       "    </tr>\n",
       "  </tbody>\n",
       "</table>\n",
       "<p>199 rows × 4 columns</p>\n",
       "</div>"
      ],
      "text/plain": [
       "     JenisKelamin  Umur  Pendapatan  Skor\n",
       "1001         Male    19        15.0  39.0\n",
       "1002         Male    21        15.0  81.0\n",
       "1003       Female    20        16.0   6.0\n",
       "1004       Female    23        16.0  77.0\n",
       "1005       Female    31        17.0  40.0\n",
       "...           ...   ...         ...   ...\n",
       "1197       Female    45       126.0  28.0\n",
       "1198         Male    32       126.0  74.0\n",
       "1199         Male    32       137.0  18.0\n",
       "1200         Male    30       137.0  83.0\n",
       "1201         Male    22        20.0  83.0\n",
       "\n",
       "[199 rows x 4 columns]"
      ]
     },
     "execution_count": 79,
     "metadata": {},
     "output_type": "execute_result"
    }
   ],
   "source": [
    "mall_cust.columns = ['JenisKelamin', 'Umur', 'Pendapatan', 'Skor']\n",
    "mall_cust"
   ]
  },
  {
   "cell_type": "code",
   "execution_count": 80,
   "metadata": {},
   "outputs": [
    {
     "data": {
      "text/html": [
       "<div>\n",
       "<style scoped>\n",
       "    .dataframe tbody tr th:only-of-type {\n",
       "        vertical-align: middle;\n",
       "    }\n",
       "\n",
       "    .dataframe tbody tr th {\n",
       "        vertical-align: top;\n",
       "    }\n",
       "\n",
       "    .dataframe thead th {\n",
       "        text-align: right;\n",
       "    }\n",
       "</style>\n",
       "<table border=\"1\" class=\"dataframe\">\n",
       "  <thead>\n",
       "    <tr style=\"text-align: right;\">\n",
       "      <th></th>\n",
       "      <th>JenisKelamin</th>\n",
       "      <th>Umur</th>\n",
       "      <th>Pendapatan</th>\n",
       "      <th>Skor</th>\n",
       "    </tr>\n",
       "  </thead>\n",
       "  <tbody>\n",
       "    <tr>\n",
       "      <th>1001</th>\n",
       "      <td>Male</td>\n",
       "      <td>19</td>\n",
       "      <td>15.0</td>\n",
       "      <td>39.0</td>\n",
       "    </tr>\n",
       "    <tr>\n",
       "      <th>1002</th>\n",
       "      <td>Male</td>\n",
       "      <td>21</td>\n",
       "      <td>15.0</td>\n",
       "      <td>81.0</td>\n",
       "    </tr>\n",
       "    <tr>\n",
       "      <th>1003</th>\n",
       "      <td>Female</td>\n",
       "      <td>20</td>\n",
       "      <td>16.0</td>\n",
       "      <td>6.0</td>\n",
       "    </tr>\n",
       "    <tr>\n",
       "      <th>1004</th>\n",
       "      <td>Female</td>\n",
       "      <td>23</td>\n",
       "      <td>16.0</td>\n",
       "      <td>77.0</td>\n",
       "    </tr>\n",
       "    <tr>\n",
       "      <th>1005</th>\n",
       "      <td>Female</td>\n",
       "      <td>31</td>\n",
       "      <td>17.0</td>\n",
       "      <td>40.0</td>\n",
       "    </tr>\n",
       "    <tr>\n",
       "      <th>...</th>\n",
       "      <td>...</td>\n",
       "      <td>...</td>\n",
       "      <td>...</td>\n",
       "      <td>...</td>\n",
       "    </tr>\n",
       "    <tr>\n",
       "      <th>1200</th>\n",
       "      <td>Male</td>\n",
       "      <td>30</td>\n",
       "      <td>137.0</td>\n",
       "      <td>83.0</td>\n",
       "    </tr>\n",
       "    <tr>\n",
       "      <th>1201</th>\n",
       "      <td>Male</td>\n",
       "      <td>22</td>\n",
       "      <td>20.0</td>\n",
       "      <td>83.0</td>\n",
       "    </tr>\n",
       "    <tr>\n",
       "      <th>1202</th>\n",
       "      <td>Male</td>\n",
       "      <td>23</td>\n",
       "      <td>100.5</td>\n",
       "      <td>50.4</td>\n",
       "    </tr>\n",
       "    <tr>\n",
       "      <th>1205</th>\n",
       "      <td>Female</td>\n",
       "      <td>45</td>\n",
       "      <td>70.5</td>\n",
       "      <td>35.6</td>\n",
       "    </tr>\n",
       "    <tr>\n",
       "      <th>1207</th>\n",
       "      <td>Male</td>\n",
       "      <td>35</td>\n",
       "      <td>88.3</td>\n",
       "      <td>54.8</td>\n",
       "    </tr>\n",
       "  </tbody>\n",
       "</table>\n",
       "<p>202 rows × 4 columns</p>\n",
       "</div>"
      ],
      "text/plain": [
       "     JenisKelamin  Umur  Pendapatan  Skor\n",
       "1001         Male    19        15.0  39.0\n",
       "1002         Male    21        15.0  81.0\n",
       "1003       Female    20        16.0   6.0\n",
       "1004       Female    23        16.0  77.0\n",
       "1005       Female    31        17.0  40.0\n",
       "...           ...   ...         ...   ...\n",
       "1200         Male    30       137.0  83.0\n",
       "1201         Male    22        20.0  83.0\n",
       "1202         Male    23       100.5  50.4\n",
       "1205       Female    45        70.5  35.6\n",
       "1207         Male    35        88.3  54.8\n",
       "\n",
       "[202 rows x 4 columns]"
      ]
     },
     "execution_count": 80,
     "metadata": {},
     "output_type": "execute_result"
    }
   ],
   "source": [
    "# tambah 3 data berikut\n",
    "data_baru = {\n",
    "    'JenisKelamin': ['Male', 'Female', 'Male'],\n",
    "    'Umur': [23, 45, 35],\n",
    "    'Pendapatan': [100.5, 70.5, 88.3],\n",
    "    'Skor': [50.4, 35.6, 54.8]\n",
    "}\n",
    "\n",
    "mall_cust = pd.concat([mall_cust, pd.DataFrame(data_baru, index=[1202, 1205, 1207])], axis=0)\n",
    "mall_cust"
   ]
  },
  {
   "cell_type": "code",
   "execution_count": 83,
   "metadata": {},
   "outputs": [
    {
     "data": {
      "text/plain": [
       "JenisKelamin     Male\n",
       "Umur               31\n",
       "Pendapatan      137.0\n",
       "Skor             83.0\n",
       "Name: 1200, dtype: object"
      ]
     },
     "execution_count": 83,
     "metadata": {},
     "output_type": "execute_result"
    }
   ],
   "source": [
    "# update data umur index 1200 menjadi 31\n",
    "mall_cust.loc[1200, ['Umur']] = 31\n",
    "mall_cust.loc[1200, :]"
   ]
  },
  {
   "cell_type": "code",
   "execution_count": 85,
   "metadata": {},
   "outputs": [
    {
     "data": {
      "text/plain": [
       "JenisKelamin    Male\n",
       "Umur              22\n",
       "Pendapatan      20.0\n",
       "Skor            83.0\n",
       "Name: 1002, dtype: object"
      ]
     },
     "execution_count": 85,
     "metadata": {},
     "output_type": "execute_result"
    }
   ],
   "source": [
    "# update data index 1002\n",
    "mall_cust.loc[1002, :] = ['Male', 22, 20, 83]\n",
    "mall_cust.loc[1002, :]"
   ]
  },
  {
   "cell_type": "code",
   "execution_count": 86,
   "metadata": {},
   "outputs": [],
   "source": [
    "# export data menjadi excel\n",
    "mall_cust.to_excel('mall_customers_updated.xlsx')"
   ]
  },
  {
   "attachments": {},
   "cell_type": "markdown",
   "metadata": {},
   "source": [
    "## Study Case 3: Menggabungkan data pasien rumah sakit dari file berbeda.\n",
    "Ada 4 file dari 2 rumah sakit yang berbeda yang harus anda gabung.\n",
    "* File \"patient_A1.csv\" merupakan data pasien dari rumah sakit A yang berisi data Pregnancies, Glucose, BloodPressure, SkinThickness.\n",
    "* File \"patient_A2.csv\" merupakan data pasien dari rumah sakit A yang berisi data Insulin, BMI, Diabetes, PedigreeFunction, Age, Outcome.\n",
    "* File \"patient.xlsx\" merupakan data pasien dari rumah sakit B yang berisi data \n",
    "  - sheet patient_B1: IdPatient, Pregnancies, SkinThickness, BMI, Age, Outcome.\n",
    "  - sheet patient_B2: IdPatient, Glucose, BloodPressure, DiabetesPedigreeFunction."
   ]
  }
 ],
 "metadata": {
  "kernelspec": {
   "display_name": "Python 3",
   "language": "python",
   "name": "python3"
  },
  "language_info": {
   "codemirror_mode": {
    "name": "ipython",
    "version": 3
   },
   "file_extension": ".py",
   "mimetype": "text/x-python",
   "name": "python",
   "nbconvert_exporter": "python",
   "pygments_lexer": "ipython3",
   "version": "3.10.7"
  },
  "orig_nbformat": 4,
  "vscode": {
   "interpreter": {
    "hash": "b56bdd541f4dd53dc090db587cebbea2780bf99bf2bbd1c72f453673f286369f"
   }
  }
 },
 "nbformat": 4,
 "nbformat_minor": 2
}

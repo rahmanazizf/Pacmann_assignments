{
  "cells": [
    {
      "cell_type": "markdown",
      "metadata": {
        "id": "Dlz3iy7U1xQ4"
      },
      "source": [
        "# **Exercise 1 Python**\n",
        "\n",
        "Python Course - Sekolah Data - Pacmann Academy\n",
        "\n",
        "Materi yang diujikan pada exercise ini adalah\n",
        "1. A Good First Program\n",
        "2. Primitive Data Structure\n",
        "3. Boolean\n",
        "4. Branching"
      ]
    },
    {
      "cell_type": "markdown",
      "metadata": {
        "id": "m5QOOvTf2Bwh"
      },
      "source": [
        "## **A Good First Program**"
      ]
    },
    {
      "cell_type": "markdown",
      "metadata": {
        "id": "6N5UncOIc9LV"
      },
      "source": [
        "### **Printing**\n"
      ]
    },
    {
      "cell_type": "markdown",
      "metadata": {
        "id": "Lax3WmbS3LLB"
      },
      "source": [
        "**Case Study 1**"
      ]
    },
    {
      "cell_type": "markdown",
      "metadata": {
        "id": "rfwvRxJyPfJK"
      },
      "source": [
        "#### **1a**\n",
        "Cobalah tampilkan nama Anda menggunakan perintah print!"
      ]
    },
    {
      "cell_type": "code",
      "execution_count": 1,
      "metadata": {
        "colab": {
          "base_uri": "https://localhost:8080/"
        },
        "id": "o8VkXgesbJh7",
        "outputId": "720f9109-56e7-4ddf-ac25-95cb2a56835b"
      },
      "outputs": [],
      "source": [
        "# Code in here \n",
        "..."
      ]
    },
    {
      "cell_type": "markdown",
      "metadata": {
        "id": "ExwHGC06Po86"
      },
      "source": [
        "#### **1b**\n",
        "Cobalah print text di bawah ini!\n",
        "\n",
        "Saya sedang belajar melakukan perintah print pada Python"
      ]
    },
    {
      "cell_type": "code",
      "execution_count": 2,
      "metadata": {
        "colab": {
          "base_uri": "https://localhost:8080/"
        },
        "id": "MuREpGg3fTQY",
        "outputId": "f8ec0503-b418-4d2a-d929-3fc4c6b879a5"
      },
      "outputs": [
        {
          "name": "stdout",
          "output_type": "stream",
          "text": [
            "Saya sedang belajar melakukan perintah print pada Python\n"
          ]
        }
      ],
      "source": [
        "# Code in here \n",
        "print(\"Saya sedang belajar melakukan perintah print pada Python\")"
      ]
    },
    {
      "cell_type": "markdown",
      "metadata": {
        "id": "G-s8BxPLQxRt"
      },
      "source": [
        "#### **1c**\n",
        "- Misalkan terdapat sebuah segitiga dengan tinggi 3 cm dan alas 2 cm.\n",
        "- Cobalah print tinggi dari segitiga tersebut!"
      ]
    },
    {
      "cell_type": "code",
      "execution_count": 3,
      "metadata": {
        "colab": {
          "base_uri": "https://localhost:8080/"
        },
        "id": "XtwXpGbOfmdM",
        "outputId": "b022bd17-2fcb-475a-ed49-784922634bcd"
      },
      "outputs": [
        {
          "name": "stdout",
          "output_type": "stream",
          "text": [
            "3\n"
          ]
        }
      ],
      "source": [
        "# Code in here \n",
        "print(3)"
      ]
    },
    {
      "cell_type": "markdown",
      "metadata": {
        "id": "Bl7cpaT_3CQH"
      },
      "source": [
        "### **Variabel**"
      ]
    },
    {
      "cell_type": "markdown",
      "metadata": {
        "id": "RVxP6dXJftA0"
      },
      "source": [
        "**Case Study 2**\n",
        "\n",
        "- Variabel merupakan tempat menyimpan sebuah nilai ataupun data.\n",
        "- Kita dapat membuat variabel dengan menggunakan syntax sebagai berikut: \n",
        "```python\n",
        "nama_variabel = <nilai>\n",
        "```\n",
        "- Nilai dapat berupa teks maupun angka/bilangan."
      ]
    },
    {
      "cell_type": "markdown",
      "metadata": {
        "id": "_m2BG2YYgV5G"
      },
      "source": [
        "#### **2a**\n",
        "Misalkan kita ingin membuat sebuah variabel yang menyimpan nama kita\n",
        "\n",
        "- Nama Variabel = nama\n",
        "- Isi dari Variabel = \"nama kita\""
      ]
    },
    {
      "cell_type": "code",
      "execution_count": 4,
      "metadata": {
        "id": "REMgSDLpjcsL"
      },
      "outputs": [],
      "source": [
        "# Code in here \n",
        "nama = \"Rahman Aziz\""
      ]
    },
    {
      "cell_type": "markdown",
      "metadata": {
        "id": "71VT0xQNiA5j"
      },
      "source": [
        "#### **2b**\n",
        "Misalkan kita ingin membuat sebuah variabel yang menyimpan text **\"Saya sedang belajar membuat variabel\"**\n",
        "\n",
        "- Nama Variabel = text\n",
        "- Isi dari Variabel = \"Saya sedang belajar membuat variabel\""
      ]
    },
    {
      "cell_type": "code",
      "execution_count": 5,
      "metadata": {
        "id": "qFInAWRxiQsj"
      },
      "outputs": [],
      "source": [
        "# Code in here \n",
        "text = \"Saya sedang belajar membuat variabel\""
      ]
    },
    {
      "cell_type": "markdown",
      "metadata": {
        "id": "M3l5yFaqiD1r"
      },
      "source": [
        "#### **2c**\n",
        "Perhatikan contoh variabel di bawah ini!\n",
        "```python\n",
        "tinggi_trapesium_yang_saya_miliki = 5\n",
        "```\n",
        "\n",
        "Pada Video Learning sebelumnya, kita telah belajar mengenai Bad and Good Variables. Contoh variabel di atas merupakan variabel yang buruk. Buatlah variabel yang baik dari contoh di atas!"
      ]
    },
    {
      "cell_type": "code",
      "execution_count": 6,
      "metadata": {
        "id": "GeoF9Jhqfqo8"
      },
      "outputs": [],
      "source": [
        "# Code in here \n",
        "trapezoid_height = 5"
      ]
    },
    {
      "cell_type": "markdown",
      "metadata": {
        "id": "QirB5sOejIaM"
      },
      "source": [
        "### **More Printing!!**\n"
      ]
    },
    {
      "cell_type": "markdown",
      "metadata": {
        "id": "vvDr8UgI3SCg"
      },
      "source": [
        "**Case Study 3**\n",
        "\n",
        "Setelah sebelumnya kita telah mempelajari mengenai variabel, maka sekarang kita akan belajar bagaimana caranya menampilkan isi dari variabel yang telah kita buat sebelumnya.\n",
        "\n",
        "Misalkan kita membuat variabel yang akan menyimpan nama dan umur seseorang. Kemudian kita ingin menampilkan isinya.\n",
        "\n",
        "- nama = \"Mark Zuckerberg\"\n",
        "- umur = 38"
      ]
    },
    {
      "cell_type": "markdown",
      "metadata": {
        "id": "-rRAAQuvjnLs"
      },
      "source": [
        "#### **3a**\n",
        "Tampilkanlah isi dari variabel nama!"
      ]
    },
    {
      "cell_type": "code",
      "execution_count": 7,
      "metadata": {
        "colab": {
          "base_uri": "https://localhost:8080/"
        },
        "id": "XzK3uWiNkCXF",
        "outputId": "05af2868-f30f-4a26-f55c-3943a6e65ce9"
      },
      "outputs": [
        {
          "name": "stdout",
          "output_type": "stream",
          "text": [
            "Mark Zuckerberg\n"
          ]
        }
      ],
      "source": [
        "# Code in here\n",
        "nama = \"Mark Zuckerberg\"\n",
        "umur = 38\n",
        "print(nama)"
      ]
    },
    {
      "cell_type": "markdown",
      "metadata": {
        "id": "itPOgMkQjnUS"
      },
      "source": [
        "#### **3b**\n",
        "Tampilkanlah isi dari variabel umur!"
      ]
    },
    {
      "cell_type": "code",
      "execution_count": 8,
      "metadata": {
        "colab": {
          "base_uri": "https://localhost:8080/"
        },
        "id": "H9OcOBf6nycU",
        "outputId": "254cf9bf-c882-4ea2-ea68-900fdff96433"
      },
      "outputs": [
        {
          "name": "stdout",
          "output_type": "stream",
          "text": [
            "38\n"
          ]
        }
      ],
      "source": [
        "# Code in here\n",
        "print(umur)"
      ]
    },
    {
      "cell_type": "markdown",
      "metadata": {
        "id": "QDoo2-Pbjnc7"
      },
      "source": [
        "#### **3c**\n",
        "\n",
        "Apakah output yang akan dihasilkan dari potongan *code* di bawah ini?\n",
        "- nama = \"Mark Zuckerberg\"\n",
        "- umur = 38\n",
        "- print(Ini adalah %s. Beliau berumur %s tahun.\" % (nama, umur))"
      ]
    },
    {
      "cell_type": "code",
      "execution_count": 9,
      "metadata": {
        "colab": {
          "base_uri": "https://localhost:8080/"
        },
        "id": "W4jMtJE3kYx8",
        "outputId": "f4594bba-2c76-4f6a-ca21-2a852e426a7c"
      },
      "outputs": [
        {
          "name": "stdout",
          "output_type": "stream",
          "text": [
            "Ini adalah Mark Zuckerberg. Beliau berumur 38 tahun.\n"
          ]
        }
      ],
      "source": [
        "# Code in here\n",
        "print(f\"Ini adalah {nama}. Beliau berumur {umur} tahun.\")"
      ]
    },
    {
      "cell_type": "markdown",
      "metadata": {
        "id": "3xyw_MqCkY-W"
      },
      "source": [
        "### **Commenting**\n"
      ]
    },
    {
      "cell_type": "markdown",
      "metadata": {
        "id": "OW6qJQx33csn"
      },
      "source": [
        "**Case Study 4**\n",
        "- Commenting merupakan sebuah komentar yang digunakan untuk memperjelas maksud dari sebuah proses ataupun sebuah perintah. \n",
        "- Apabila dijalankan commenting tidak akan melakukan eksekusi apapun.\n",
        "- Commenting diperlukan untuk mempermudah kita mengerti suatu program. \n",
        "- Commenting juga akan mempermudah orang lain yang hendak membaca program kita kelak."
      ]
    },
    {
      "cell_type": "markdown",
      "metadata": {
        "id": "I2IqeCdlkly9"
      },
      "source": [
        "#### **4a**\n",
        "\n",
        "- tinggi_trapesium = 4 cm\n",
        "- print(tinggi_trapesium)\n",
        "\n",
        "Berilah komentar pada code di atas menggunakan inline comment!"
      ]
    },
    {
      "cell_type": "code",
      "execution_count": 10,
      "metadata": {
        "id": "dNi1AmzWX7KW"
      },
      "outputs": [
        {
          "name": "stdout",
          "output_type": "stream",
          "text": [
            "4\n"
          ]
        }
      ],
      "source": [
        "# Code in here \n",
        "tingi_trapesium = 4 # assign nilai tinggi trapesium ke dalam variabel\n",
        "print(tingi_trapesium) # menampilkan isi variabel"
      ]
    },
    {
      "cell_type": "markdown",
      "metadata": {
        "id": "xvPy9d6ukl9Y"
      },
      "source": [
        "#### **4b**\n",
        "Berilah comment pada code di bawah ini!"
      ]
    },
    {
      "cell_type": "code",
      "execution_count": 11,
      "metadata": {
        "id": "fus-56o4Yk3F"
      },
      "outputs": [
        {
          "name": "stdout",
          "output_type": "stream",
          "text": [
            "17 Agustus adalah hari kemerdekaan Indonesia\n"
          ]
        }
      ],
      "source": [
        "# Code in here \n",
        "# Masukkan comment di titik - titik di bawah ini\n",
        "\n",
        "# menampilkan teks\n",
        "print(\"17 Agustus adalah hari kemerdekaan Indonesia\")"
      ]
    },
    {
      "cell_type": "markdown",
      "metadata": {
        "id": "i_2EtkvtkmGc"
      },
      "source": [
        "#### **4c**\n",
        "\n",
        "Terdapat dua code di bawah ini\n",
        "\n",
        "- luas_persegi = sisi_persegi * sisi_persegi # mencari luas persegi\n",
        "- luas_persegi = sisi_persegi * sisi_persegi # Ini adalah baris yang digunakan untuk mencari luas persegi sebagai hasil perkalian sisi persegi dengan sisi persegi\n",
        "\n",
        "Manakah code yang memiliki komentar yang baik?"
      ]
    },
    {
      "cell_type": "markdown",
      "metadata": {
        "id": "kvcrhG0Qhwia"
      },
      "source": [
        "Isi jawaban di titik - titik di bawah ini\n",
        "\n",
        "Code yang pertama itu yang bagus, karena singkat dan jelas"
      ]
    },
    {
      "cell_type": "markdown",
      "metadata": {
        "id": "EZRXmeX_kvsf"
      },
      "source": [
        "### **Error**\n"
      ]
    },
    {
      "cell_type": "markdown",
      "metadata": {
        "id": "tYWl7NgN3k9o"
      },
      "source": [
        "\n",
        "Ketika mendapati suatu error, ada beberapa langkah yang dapat kita lakukan untuk dapat mengatasinya, yaitu:\n",
        "- Perhatikan error outputnya\n",
        "- Cobalah untuk googling mengenai error tersebut\n",
        "- Kemudian cobalah code yang telah digoogling sebelumnya\n",
        "- Apabila masih belum *solve*, cobalah untuk googling kembali\n",
        "\n",
        "**Case Study 5**\n",
        "\n",
        "Pak Joko memiliki 3 orang anak. Setiap hari ia selalu memberikan uang saku kepada ketiga anaknya dengan rincian sebagai berikut:\n",
        "- Anak Pertama: 25.000\n",
        "- Anak Kedua 15.000\n",
        "- Anak Ketiga 10.000"
      ]
    },
    {
      "cell_type": "markdown",
      "metadata": {
        "id": "mynWzjhhlGCc"
      },
      "source": [
        "#### **5a**\n",
        "Misalkan kita melakukan print pada uang jajan anak pertama menggunakan perintah dibawah ini:"
      ]
    },
    {
      "cell_type": "code",
      "execution_count": 12,
      "metadata": {
        "colab": {
          "base_uri": "https://localhost:8080/",
          "height": 130
        },
        "id": "k8qa15bHg34b",
        "outputId": "083aff85-dd83-44d7-cbae-14a223fad215"
      },
      "outputs": [
        {
          "ename": "SyntaxError",
          "evalue": "invalid syntax (2117679338.py, line 5)",
          "output_type": "error",
          "traceback": [
            "\u001b[1;36m  Input \u001b[1;32mIn [12]\u001b[1;36m\u001b[0m\n\u001b[1;33m    PRINT(anak1):\u001b[0m\n\u001b[1;37m                ^\u001b[0m\n\u001b[1;31mSyntaxError\u001b[0m\u001b[1;31m:\u001b[0m invalid syntax\n"
          ]
        }
      ],
      "source": [
        "anak_1 = 25000\n",
        "anak_2 = 15000\n",
        "anak_3 = 10000\n",
        "\n",
        "PRINT(anak1):"
      ]
    },
    {
      "cell_type": "code",
      "execution_count": 15,
      "metadata": {
        "id": "GGe9ZbqUhZaD"
      },
      "outputs": [
        {
          "name": "stdout",
          "output_type": "stream",
          "text": [
            "25000\n"
          ]
        }
      ],
      "source": [
        "#Code in here\n",
        "anak_1 = 25000\n",
        "anak_2 = 15000\n",
        "anak_3 = 10000\n",
        "print(anak_1)"
      ]
    },
    {
      "cell_type": "markdown",
      "metadata": {
        "id": "V_lC0-y_lGLZ"
      },
      "source": [
        "#### **5b**\n",
        "Misalkan kita melakukan print pada uang jajan anak kedua menggunakan perintah dibawah ini:"
      ]
    },
    {
      "cell_type": "code",
      "execution_count": null,
      "metadata": {
        "colab": {
          "base_uri": "https://localhost:8080/",
          "height": 200
        },
        "id": "4fN8SXXzhk6a",
        "outputId": "edea6ff0-0d52-4ce3-9b3f-5689036395ad"
      },
      "outputs": [
        {
          "ename": "NameError",
          "evalue": "ignored",
          "output_type": "error",
          "traceback": [
            "\u001b[0;31m---------------------------------------------------------------------------\u001b[0m",
            "\u001b[0;31mNameError\u001b[0m                                 Traceback (most recent call last)",
            "\u001b[0;32m<ipython-input-2-6cd33415496d>\u001b[0m in \u001b[0;36m<module>\u001b[0;34m\u001b[0m\n\u001b[1;32m      3\u001b[0m \u001b[0manak_3\u001b[0m \u001b[0;34m=\u001b[0m \u001b[0;36m10000\u001b[0m\u001b[0;34m\u001b[0m\u001b[0;34m\u001b[0m\u001b[0m\n\u001b[1;32m      4\u001b[0m \u001b[0;34m\u001b[0m\u001b[0m\n\u001b[0;32m----> 5\u001b[0;31m \u001b[0mprint\u001b[0m\u001b[0;34m(\u001b[0m\u001b[0mANAK_2\u001b[0m\u001b[0;34m)\u001b[0m\u001b[0;34m\u001b[0m\u001b[0;34m\u001b[0m\u001b[0m\n\u001b[0m",
            "\u001b[0;31mNameError\u001b[0m: name 'ANAK_2' is not defined"
          ]
        }
      ],
      "source": [
        "anak_1 = 25000\n",
        "anak_2 = 15000\n",
        "anak_3 = 10000\n",
        "\n",
        "print(ANAK_2)"
      ]
    },
    {
      "cell_type": "code",
      "execution_count": 16,
      "metadata": {
        "id": "bYo95vkAht27"
      },
      "outputs": [
        {
          "name": "stdout",
          "output_type": "stream",
          "text": [
            "15000\n"
          ]
        }
      ],
      "source": [
        "# Code in here\n",
        "anak_1 = 25000\n",
        "anak_2 = 15000\n",
        "anak_3 = 10000\n",
        "\n",
        "print(anak_2)"
      ]
    },
    {
      "cell_type": "markdown",
      "metadata": {
        "id": "Uxuv6DTMlGTR"
      },
      "source": [
        "#### **5c**\n",
        "Misalkan kita ingin menjalankan potongan code di bawah ini\n",
        "\n",
        "- print(\"Uang saku anak pertama adalah 25.000\")\n",
        "    - print(\"Uang saku anak kedua adalah 15.000\")\n",
        "- print(\"Uang saku anak ketiga adalah 10.000\")"
      ]
    },
    {
      "cell_type": "code",
      "execution_count": 17,
      "metadata": {
        "colab": {
          "base_uri": "https://localhost:8080/",
          "height": 130
        },
        "id": "2_tBS3VZGWL1",
        "outputId": "34413af4-e10f-4ea4-e01c-85c4eb078aac"
      },
      "outputs": [
        {
          "ename": "IndentationError",
          "evalue": "unexpected indent (2501009975.py, line 2)",
          "output_type": "error",
          "traceback": [
            "\u001b[1;36m  Input \u001b[1;32mIn [17]\u001b[1;36m\u001b[0m\n\u001b[1;33m    print(\"Uang saku anak kedua adalah 15.000\")\u001b[0m\n\u001b[1;37m    ^\u001b[0m\n\u001b[1;31mIndentationError\u001b[0m\u001b[1;31m:\u001b[0m unexpected indent\n"
          ]
        }
      ],
      "source": [
        "print(\"Uang saku anak pertama adalah 25.000\")\n",
        "  print(\"Uang saku anak kedua adalah 15.000\")\n",
        "print(\"Uang saku anak ketiga adalah 10.000\")"
      ]
    },
    {
      "cell_type": "code",
      "execution_count": 18,
      "metadata": {
        "id": "PbB9tnXsiI9g"
      },
      "outputs": [
        {
          "name": "stdout",
          "output_type": "stream",
          "text": [
            "Uang saku anak pertama adalah 25.000\n",
            "Uang saku anak kedua adalah 15.000\n",
            "Uang saku anak ketiga adalah 10.000\n"
          ]
        }
      ],
      "source": [
        "# Code in here\n",
        "print(\"Uang saku anak pertama adalah 25.000\")\n",
        "print(\"Uang saku anak kedua adalah 15.000\")\n",
        "print(\"Uang saku anak ketiga adalah 10.000\")"
      ]
    },
    {
      "cell_type": "markdown",
      "metadata": {
        "id": "tUfNfupJ3xsj"
      },
      "source": [
        "# **Primitive Data Structure**"
      ]
    },
    {
      "cell_type": "markdown",
      "metadata": {
        "id": "kKY-MAgGrOTy"
      },
      "source": [
        "### Case 1: Tanah Pak Banu"
      ]
    },
    {
      "cell_type": "markdown",
      "metadata": {
        "id": "4psXl_KXyqFI"
      },
      "source": [
        "Pak Banu memiliki sebidang tanah berbentuk Persegi Panjang dengan panjang 80 meter dan lebar 50 meter."
      ]
    },
    {
      "cell_type": "markdown",
      "metadata": {
        "id": "d9-Jaa4Y2q_a"
      },
      "source": [
        "![1.jpg](https://i.postimg.cc/MTCgHnn2/1.jpg)"
      ]
    },
    {
      "cell_type": "markdown",
      "metadata": {
        "id": "jBZa5oCx3okC"
      },
      "source": [
        "#### **1A** \n",
        "\n",
        "Berapakah luas tanah Pak Banu ?"
      ]
    },
    {
      "cell_type": "code",
      "execution_count": 19,
      "metadata": {
        "colab": {
          "base_uri": "https://localhost:8080/"
        },
        "id": "jITNA8UahSPR",
        "outputId": "c494c28b-64c8-485c-c49a-b0059a9cec56"
      },
      "outputs": [
        {
          "name": "stdout",
          "output_type": "stream",
          "text": [
            "Luas tanah Pak Banu = 4000 m^2\n"
          ]
        }
      ],
      "source": [
        "# definisikan variabel panjang dan lebar \n",
        "panjang = 80\n",
        "lebar = 50\n",
        "# cari luas tanah menggunakan rumus luas persegi\n",
        "# luas persegi = panjang * lebar\n",
        "luas_persegi = panjang * lebar\n",
        "\n",
        "# tampilkan luas tanah\n",
        "print(f\"Luas tanah Pak Banu = {luas_persegi} m^2\")"
      ]
    },
    {
      "cell_type": "markdown",
      "metadata": {
        "id": "ZjKCFqCl0s1t"
      },
      "source": [
        "#### **1B** \n",
        "Pak Banu berencana untuk menanaminya dengan pohon jeruk. Jika pohon jeruk akan ditanam di tanah yang Pak Banu miliki, dan jarak antar pohon 5 * 5 meter, berapakah jumlah bibit pohon jeruk yang dibutuhkan Pak Banu ?\n",
        "\n",
        "![12.jpg](https://i.postimg.cc/sXXptmmw/12.jpg)\n",
        "\n",
        "```\n",
        "Keterangan : \n",
        "Rumus menghitung jumlah pohon\n",
        "jumlah pohon di sisi panjang = (panjang tanah / jarak pohon ) + 1\n",
        "jumlah pohon di sisi lebar = (lebar tanah / jarak pohon ) + 1\n",
        "total pohon = jumlah pohon di sisi panjang * jumlah pohon di sisi lebar\n",
        "\n",
        "```\n",
        "\n",
        "\n"
      ]
    },
    {
      "cell_type": "code",
      "execution_count": 20,
      "metadata": {
        "colab": {
          "base_uri": "https://localhost:8080/"
        },
        "id": "SIUJA8_d7fTs",
        "outputId": "76b02ad8-3358-49f0-8d39-b3da3432339a"
      },
      "outputs": [
        {
          "name": "stdout",
          "output_type": "stream",
          "text": [
            "Total pohon di tanah Pak Banu: 187.0\n"
          ]
        }
      ],
      "source": [
        "# definisikan variabel constant jarak antar pohon\n",
        "from functools import total_ordering\n",
        "\n",
        "\n",
        "d_pohon = 5\n",
        "\n",
        "# hitung jumlah bibit pohon\n",
        "# pakai variabel panjang dan lebar tanah di soal 1A\n",
        "pohon_sisi_panjang = (panjang / d_pohon) + 1\n",
        "pohon_sisi_lebar = (lebar / d_pohon) + 1\n",
        "total_pohon = pohon_sisi_lebar * pohon_sisi_panjang\n",
        "# tampilkan jumlah bibit pohon jeruk\n",
        "print(f\"Total pohon di tanah Pak Banu: {total_pohon}\")"
      ]
    },
    {
      "cell_type": "markdown",
      "metadata": {
        "id": "oZ7dNwj--YC_"
      },
      "source": [
        "#### **1C** \n",
        "\n",
        "Diketahui saat panen setiap pohon akan menghasilkan rata-rata 15 kg jeruk. Pak Banu menjual jeruk tersebut dengan harga 18.000 per kilogram. Berapakah pendapatan **(revenue)** yang didapatkan Pak Banu jika diasumsikan seluruh jeruk terjual ?\n",
        "\n",
        "\n",
        "```\n",
        "Keterangan:\n",
        "rumus revenue = jumlah barang * harga\n",
        "```\n",
        "\n"
      ]
    },
    {
      "cell_type": "code",
      "execution_count": 21,
      "metadata": {
        "colab": {
          "base_uri": "https://localhost:8080/"
        },
        "id": "vdYEgWGz7fXN",
        "outputId": "d03ad835-b866-4f4f-acf4-a46809a0e263"
      },
      "outputs": [
        {
          "name": "stdout",
          "output_type": "stream",
          "text": [
            "Revenue yang didapatkan = 50490000\n"
          ]
        }
      ],
      "source": [
        "# definisikan variabel jumlah hasil per pohon dan harga per kilogram jeruk\n",
        "jeruk_per_pohon = 15\n",
        "harga_per_kg = 18000\n",
        "# cari total keseluruhan total berat jeruk terlebih dahulu\n",
        "# pakai variabel total pohon yang dibutuhkan pada soal 1C\n",
        "# hitung dahulu hasil total jeruk = hasil per pohon * jumlah pohon\n",
        "total_kg_jeruk = total_pohon * jeruk_per_pohon\n",
        "\n",
        "# hitung pendapatan atau revenue\n",
        "revenue = total_kg_jeruk * harga_per_kg\n",
        "\n",
        "# tampilkan revenue yang didapatkan\n",
        "print(f\"Revenue yang didapatkan = {revenue:.0f}\")"
      ]
    },
    {
      "cell_type": "markdown",
      "metadata": {
        "id": "HlrQgvgdnpra"
      },
      "source": [
        "#### **1D**\n",
        "\n",
        "Jika modal yang dibutuhkan untuk pekerja, pupuk, obat tanaman, peralatan, dll adalah sekitar 9.000.000 rupiah, berapakah keuntungan bersih yang didapatkan Pak Banu ?\n",
        "\n",
        "\n",
        "\n",
        "```\n",
        "Keterangan : \n",
        "rumus laba bersih = total pendapatan - total pengeluaran\n",
        "```\n",
        "\n"
      ]
    },
    {
      "cell_type": "code",
      "execution_count": 22,
      "metadata": {
        "colab": {
          "base_uri": "https://localhost:8080/"
        },
        "id": "nZw3j9Ae7fbi",
        "outputId": "e955573b-2627-471f-ca2a-070212c5a3ce"
      },
      "outputs": [
        {
          "name": "stdout",
          "output_type": "stream",
          "text": [
            "Keuntungan bersih yang didapatkan = 41490000\n"
          ]
        }
      ],
      "source": [
        "# definisikan variabel untuk biaya berkebun\n",
        "modal = 9000000\n",
        "\n",
        "# hitung untung bersih yang didapatkan\n",
        "# Gunakan variabel revenue dari soal nomer 1C\n",
        "laba = revenue - modal\n",
        "\n",
        "# tampilkan keuntungan bersih yang didapatkan\n",
        "print(f\"Keuntungan bersih yang didapatkan = {laba:.0f}\")"
      ]
    },
    {
      "cell_type": "markdown",
      "metadata": {
        "id": "HBiriXVprY68"
      },
      "source": [
        "### Case 2: Donat Bu Ida"
      ]
    },
    {
      "cell_type": "markdown",
      "metadata": {
        "id": "IUm352OGrexM"
      },
      "source": [
        "Bu Ida baru saja merintis berjualan kue donat. Dalam 10 kue donat menghabiskan dana sekitar Rp 70.000 untuk bahan-bahan dan Rp 10.000 untuk operasional."
      ]
    },
    {
      "cell_type": "markdown",
      "metadata": {
        "id": "e12WPeARIRzn"
      },
      "source": [
        "####**2A**\n",
        "Hitunglah biaya produksi 10 kue donat Bu Ida\n",
        "\n",
        "```\n",
        "keterangan:\n",
        "biaya produksi = biaya bahan + biaya operasional\n",
        "```\n",
        "\n"
      ]
    },
    {
      "cell_type": "code",
      "execution_count": 23,
      "metadata": {
        "colab": {
          "base_uri": "https://localhost:8080/"
        },
        "id": "21GoPWELJJlD",
        "outputId": "cd01a547-c055-463c-ed5c-575f6dd34c9c"
      },
      "outputs": [
        {
          "name": "stdout",
          "output_type": "stream",
          "text": [
            "Biaya produksi 10 donat Bu Ida = Rp 80000\n"
          ]
        }
      ],
      "source": [
        "# definisikan variabel biaya bahan dan biaya operasional\n",
        "operasional = 10000\n",
        "bahan = 70000\n",
        "# hitung biaya produksi\n",
        "produksi = bahan + operasional\n",
        "\n",
        "# tampilkan biaya produksi 10 donat yang sudah di hitung\n",
        "print(f\"Biaya produksi 10 donat Bu Ida = Rp {produksi}\")"
      ]
    },
    {
      "cell_type": "markdown",
      "metadata": {
        "id": "UGdni7CZJ0x6"
      },
      "source": [
        "#### **2B**"
      ]
    },
    {
      "cell_type": "markdown",
      "metadata": {
        "id": "67NyL7SLJ4Dv"
      },
      "source": [
        "Jika Bu Ida ingin mendapatkan keuntungan sebanyak 20%, berapa harga donat per biji yang harus ditetapkan ?\n",
        "```\n",
        "keterangan :\n",
        "harga jual produk = biaya produksi + (prosentase keuntungan * biaya produksi)\n",
        "```\n",
        "\n"
      ]
    },
    {
      "cell_type": "code",
      "execution_count": 24,
      "metadata": {
        "colab": {
          "base_uri": "https://localhost:8080/"
        },
        "id": "-1ZSq1h3oVP_",
        "outputId": "3a45ad43-a588-44f2-82dd-0ab0849a9d33"
      },
      "outputs": [
        {
          "name": "stdout",
          "output_type": "stream",
          "text": [
            "Harga donat per biji = 9600\n"
          ]
        }
      ],
      "source": [
        "# definisikan variabel prosentase keuntungan\n",
        "margin = 0.2\n",
        "\n",
        "# hitung harga jual produk\n",
        "harga_jual = produksi + (produksi * margin)\n",
        "\n",
        "# perlu diketahui bahwa harga di atas adalah harga 10 produk\n",
        "# untuk mengetahui harga per biji maka harus dibagi 10\n",
        "# hitung harga per produk\n",
        "harga_per_produk = harga_jual / 10\n",
        "\n",
        "# tampilakn harga kue donat per biji\n",
        "print(f\"Harga donat per biji = {harga_per_produk:.0f}\")"
      ]
    },
    {
      "cell_type": "markdown",
      "metadata": {
        "id": "KC-XYlIvwhfb"
      },
      "source": [
        "### Case 3: Dana Pensiun Bruno"
      ]
    },
    {
      "cell_type": "markdown",
      "metadata": {
        "id": "1z2c1RbowjMV"
      },
      "source": [
        "Bruno adalah seorang pekerja swasta. Supaya tidak menggantungkan diri kepada anaknya dia ingin menyiapkan dana untuk masa pensiun nanti. Untuk itu, Bruno mengikuti program dana pensiun dari suatu lembaga keuangan.  Dengan asumsi Bruno akan pensiun dari pekerjaanya pada usia 55 tahun dan usia yang bisa di ikuti dalam program dana pensiun tersebut adalah sampai 80 tahun."
      ]
    },
    {
      "cell_type": "markdown",
      "metadata": {
        "id": "to7iJQNo12LD"
      },
      "source": [
        "#### **3A**\n",
        "\n",
        "Jika total biaya hidup Bruno saat ini adalah sekitar 4.000.000 per bulan. Berapakah tabungan pensiun yang harus disiapkan ?"
      ]
    },
    {
      "cell_type": "markdown",
      "metadata": {
        "id": "Enr5FFDdyEMv"
      },
      "source": [
        "\n",
        "\n",
        "```\n",
        "keterangan:\n",
        "biaya pensiun = biaya hidup per bulan x 12 (jumlah bulan dalam satu tahun) x rentang umur\n",
        "```\n",
        "\n"
      ]
    },
    {
      "cell_type": "code",
      "execution_count": 25,
      "metadata": {
        "colab": {
          "base_uri": "https://localhost:8080/"
        },
        "id": "1t4JM9dEu1Ld",
        "outputId": "676b975d-9239-4213-ced5-3e0de09ceee3"
      },
      "outputs": [
        {
          "name": "stdout",
          "output_type": "stream",
          "text": [
            "Biaya pensiun yang harus disiapkan Bruno = 1200000000\n"
          ]
        }
      ],
      "source": [
        "# definisikan variabel biaya hidup per bulan\n",
        "biaya_per_bulan = 4000000\n",
        "\n",
        "# definisikan variabel umur saat pensiun\n",
        "# dan umur maksimal pada program dana pensiun\n",
        "target_pensiun = 55\n",
        "max_coverage = 80\n",
        "\n",
        "# hitung rentang umur saat mengikuti program dana pensiun\n",
        "# rentang umur = umur max - umur pensiun\n",
        "rentang_umur = max_coverage - target_pensiun\n",
        "\n",
        "# hitung biaya pensiun yang dibutuhkan\n",
        "biaya_pensiun = biaya_per_bulan * 12 * rentang_umur\n",
        "\n",
        "# tampilkan hasil perhitungan biaya pensiun\n",
        "print(f\"Biaya pensiun yang harus disiapkan Bruno = {biaya_pensiun}\")"
      ]
    },
    {
      "cell_type": "markdown",
      "metadata": {
        "id": "FrcWfT1v1_gt"
      },
      "source": [
        "#### **3B**\n",
        "Jika saat ini Bruno berusia 25 tahun. Berapakah gaji yang harus disisihkan per bulan untuk tabungan pensiunnya ?"
      ]
    },
    {
      "cell_type": "code",
      "execution_count": 26,
      "metadata": {
        "colab": {
          "base_uri": "https://localhost:8080/"
        },
        "id": "YRy_nc9m0mFC",
        "outputId": "44ec08a5-3ed1-45af-9153-1b3016af1797"
      },
      "outputs": [
        {
          "name": "stdout",
          "output_type": "stream",
          "text": [
            "tabungan per bulan untuk pensiun Rp3333333.33\n"
          ]
        }
      ],
      "source": [
        "# definisikan umur Bruno sekarang\n",
        "umur_bruno = 25\n",
        "\n",
        "# hitung lama bruno harus menabung\n",
        "# lama menabung = umur pensiun - umur sekarang\n",
        "lama_menabung = target_pensiun - 25\n",
        "\n",
        "# hitung jumlah tabungan dalan satu tahun yang harus dikumpulkan\n",
        "# tabungan dalam satu tahun = biaya pensiun / lama menabung\n",
        "tabungan_per_tahun = biaya_pensiun / lama_menabung\n",
        "\n",
        "# hitung tabungan per bulan yang harus dikumpulkan\n",
        "# tabungan per bulan = jumlah tabungan dalam satu tahun / 12 (jumlah bulan)\n",
        "tabungan_per_bulan = tabungan_per_tahun / 12\n",
        "\n",
        "# tampilkan hasil perhitungan tabungan per bulan \n",
        "print(f\"tabungan per bulan untuk pensiun Rp{tabungan_per_bulan:.2f}\")"
      ]
    },
    {
      "cell_type": "markdown",
      "metadata": {
        "id": "yDs7VuRx6CLN"
      },
      "source": [
        "### Case 4: Data Administrator"
      ]
    },
    {
      "cell_type": "markdown",
      "metadata": {
        "id": "tc3EvUBd6LeN"
      },
      "source": [
        "Seorang Data Administrator di Perusahaan S yang baru saja masuk ke kantor diberi task oleh bosnya untuk mengambil data seorang karyawan. Datanya sebagai berikut:\n",
        "\n",
        "| Nama | NIK | Jenis Kelamin | Alamat | Jabatan |\n",
        "|-|-|-|-|-|\n",
        "|Enzo Ferdinand | 223312 | Laki-Laki | Jl. Mawar No. 13, Kota A | Marketing Staff|\n",
        "\n"
      ]
    },
    {
      "cell_type": "markdown",
      "metadata": {
        "id": "xdRNyNODDcmy"
      },
      "source": [
        "####**4A**"
      ]
    },
    {
      "cell_type": "markdown",
      "metadata": {
        "id": "ArhfDy9eEYZC"
      },
      "source": [
        "Ambil karakter pertama dari nama awal karyawan tersebut, kemudian ambil juga nama terakhir. Setelah itu gabungkan keduanya sehingga menjadi `E. Ferdinand`\n"
      ]
    },
    {
      "cell_type": "code",
      "execution_count": 40,
      "metadata": {
        "colab": {
          "base_uri": "https://localhost:8080/"
        },
        "id": "quFnKjoy22MT",
        "outputId": "4843da1e-2ea4-4cd9-eb90-99bd5a729ebc"
      },
      "outputs": [
        {
          "name": "stdout",
          "output_type": "stream",
          "text": [
            "E.  Ferdinand\n"
          ]
        }
      ],
      "source": [
        "# definisikan variabel nama karyawan dahulu\n",
        "nama_karyawan = \"Enzo Ferdinand\"\n",
        "\n",
        "# lakukan slicing untuk mendapatkan karakter pertama nama awal\n",
        "char_pertama = nama_karyawan[0]\n",
        "\n",
        "# lakukan slicing untuk mendapatkan nama terakhir\n",
        "nama_belakang = nama_karyawan[nama_karyawan.find(\" \"):]\n",
        "\n",
        "# gabungkan nama awal dan nama terakhir\n",
        "nama_final = f\"{char_pertama}. {nama_belakang}\"\n",
        "\n",
        "# tampilkan nama yang sudah digabung\n",
        "print(nama_final)"
      ]
    },
    {
      "cell_type": "markdown",
      "metadata": {
        "id": "-uqGsteWHdMv"
      },
      "source": [
        "#### **4B**\n",
        "\n"
      ]
    },
    {
      "cell_type": "markdown",
      "metadata": {
        "id": "6x8Lb1t1H3IO"
      },
      "source": [
        "Posisi Manager Marketing di Perusahaan tersebut sedang kosong karena suatu hal. Pimpinan perusahaan mempromosikan E. Ferdinand di posisi tersebut karena pekerjaannya memberi pengaruh besar kepada perusahaan. Ubah jabatan karyawan tersebut dari Marketing Staff menjadi Marketing Manager."
      ]
    },
    {
      "cell_type": "code",
      "execution_count": 41,
      "metadata": {
        "colab": {
          "base_uri": "https://localhost:8080/"
        },
        "id": "zX2hNWVoH2lF",
        "outputId": "55a9c54d-0ddd-4f71-a2ed-9bf5f0fd9f80"
      },
      "outputs": [
        {
          "name": "stdout",
          "output_type": "stream",
          "text": [
            "Manager\n"
          ]
        }
      ],
      "source": [
        "# definisikan variabel untuk menampung jabatan karyawan tersebut\n",
        "jabatan = \"Staff\"\n",
        "\n",
        "# ganti kata Staff menjadi Manager\n",
        "jabatan = \"Manager\"\n",
        "\n",
        "# tampilkan nama karyawan dan jabatannya sekarang\n",
        "print(jabatan)"
      ]
    },
    {
      "cell_type": "markdown",
      "metadata": {
        "id": "uxgxsG4bMYzC"
      },
      "source": [
        "### Case 5: Analisa Lirik Lagu"
      ]
    },
    {
      "cell_type": "markdown",
      "metadata": {
        "id": "10DSL74mMcBA"
      },
      "source": [
        "Alexa sangat menyukai band Bonjovi, terutama lagunya yang berjudul `it's my live`. Sangking sukanya Alexa sampai membuat analisis pada bagian reff lagu tersebut"
      ]
    },
    {
      "cell_type": "code",
      "execution_count": 29,
      "metadata": {
        "id": "elpXxkymPELU"
      },
      "outputs": [],
      "source": [
        "lyrics =  ''' \n",
        "It's my life\n",
        "It's now or never\n",
        "But I ain't gonna live forever\n",
        "I just want to live while I'm alive\n",
        "It's my life\n",
        "My heart is like an open highway\n",
        "Like Frankie said, I did it my way\n",
        "I just want to live while I'm alive\n",
        "It's my life\n",
        "'''"
      ]
    },
    {
      "cell_type": "markdown",
      "metadata": {
        "id": "3c_VtQM6Req8"
      },
      "source": [
        "#### 5A\n",
        "\n",
        "Sebelum melakukan analisis baiknya dilakukan pembersihan data dahulu. Beberapa caranya adalah:\n",
        "- Membuat huruf menjadi kecil semua,  \n",
        "- Menghilangkan karakter yang tidak diinginkan seperti tanda petik (`'`) dan tanda koma (`,`)\n",
        "\n",
        "\n"
      ]
    },
    {
      "cell_type": "markdown",
      "metadata": {
        "id": "HVu5_8CTOZ6g"
      },
      "source": [
        "\n",
        "\n",
        "Catatan :\n",
        "\n",
        "Untuk **menghilangkan** suatu karakter bisa menggunakan method `replace`. Maksudnya karakter tersebut **diganti atau di-replace** dengan **empty string** `(\"\")`\n",
        "\n",
        "Contoh :\n",
        "\n",
        "Kita akan menghilangkan huruf `\"b\"` dari kata `\"bisa\"`\n",
        "```\n",
        "NAMA_VAR = \"bisa\"\n",
        "NAMA_VAR = NAMA_VAR.replace('b', \"\")\n",
        "# output\n",
        "print(NAMA_VAR)\n",
        "\"isa\"\n",
        "```\n"
      ]
    },
    {
      "cell_type": "code",
      "execution_count": 43,
      "metadata": {
        "colab": {
          "base_uri": "https://localhost:8080/"
        },
        "id": "pDN0bD2mSX50",
        "outputId": "8437c105-8b13-4c2e-a73c-bb1b9e4c6898"
      },
      "outputs": [
        {
          "name": "stdout",
          "output_type": "stream",
          "text": [
            " \n",
            "its my life\n",
            "its now or never\n",
            "but i aint gonna live forever\n",
            "i just want to live while im alive\n",
            "its my life\n",
            "my heart is like an open highway\n",
            "like frankie said i did it my way\n",
            "i just want to live while im alive\n",
            "its my life\n",
            "\n"
          ]
        }
      ],
      "source": [
        "# buatlah huruf di variabel lyrics menjadi huruf kecil semua\n",
        "# lyrics_lower = lyrics.copy()\n",
        "lyrics_lower = lyrics.lower()\n",
        "\n",
        "# hilangkan tanda petik dengan method replace\n",
        "lyrics_lower = lyrics_lower.replace(\"'\", \"\")\n",
        "\n",
        "# hilangkan tanda koma dengan method replace\n",
        "lyrics_lower = lyrics_lower.replace(\",\",\"\")\n",
        "\n",
        "# tampilakn lirik yang sudah di lakukan pembersihan data\n",
        "print(lyrics_lower)"
      ]
    },
    {
      "cell_type": "markdown",
      "metadata": {
        "id": "pDme_hNRP7ad"
      },
      "source": [
        "####**5B**"
      ]
    },
    {
      "cell_type": "markdown",
      "metadata": {
        "id": "MtQN4Go3Ugku"
      },
      "source": [
        "Berapa banyak karakter dalam lirik tersebut?"
      ]
    },
    {
      "cell_type": "code",
      "execution_count": 56,
      "metadata": {
        "colab": {
          "base_uri": "https://localhost:8080/"
        },
        "id": "iLGIFrUjUkIH",
        "outputId": "9ef4715a-17a6-451d-91c9-b2012690fac7"
      },
      "outputs": [
        {
          "name": "stdout",
          "output_type": "stream",
          "text": [
            "Banyak karakter dalam lirik: 222\n"
          ]
        }
      ],
      "source": [
        "# definisikan variabel dan hitung banyak karakter dengan method python\n",
        "count_chars = len(lyrics_lower)\n",
        "\n",
        "# tampilkan banyak karakter dalam lirik tersebut\n",
        "print(f\"Banyak karakter dalam lirik: {count_chars}\")"
      ]
    },
    {
      "cell_type": "code",
      "execution_count": 60,
      "metadata": {},
      "outputs": [],
      "source": [
        "def count_words(words, keyword):\n",
        "    import re\n",
        "    '''\n",
        "    Count how many words in a string\n",
        "    returns number of words (int)\n",
        "    '''\n",
        "    split_words = re.split(\"\\s\", lyrics_lower)\n",
        "    list_of_words = [word for word in split_words if word != \"\"]\n",
        "    \n",
        "    counter = 0\n",
        "    for word in list_of_words:\n",
        "        if word == keyword: counter += 1\n",
        "    \n",
        "    return counter"
      ]
    },
    {
      "cell_type": "markdown",
      "metadata": {
        "id": "4b3hOX4_VS92"
      },
      "source": [
        "#### **5C**"
      ]
    },
    {
      "cell_type": "markdown",
      "metadata": {
        "id": "FbTPVXG0VX9c"
      },
      "source": [
        "Berapakah banyak kemunculan kata `life` dalam lirik tersebut\n"
      ]
    },
    {
      "cell_type": "code",
      "execution_count": 62,
      "metadata": {
        "colab": {
          "base_uri": "https://localhost:8080/"
        },
        "id": "DqBzOqukVjSI",
        "outputId": "d94a53dd-63f0-49e1-a1fb-fe6123df3f61"
      },
      "outputs": [
        {
          "name": "stdout",
          "output_type": "stream",
          "text": [
            "banyak kemunculan kata 'life': 3\n"
          ]
        }
      ],
      "source": [
        "# definisikan variabel dan hitung kemunculan kata life dengan method python\n",
        "n_life = count_words(lyrics_lower, 'life')\n",
        "\n",
        "# tampilkan banyak kemunculan kata tersebut\n",
        "print(f\"banyak kemunculan kata 'life': {n_life}\")"
      ]
    },
    {
      "cell_type": "markdown",
      "metadata": {
        "id": "jOSX8joMVA4G"
      },
      "source": [
        "####**5D**"
      ]
    },
    {
      "cell_type": "markdown",
      "metadata": {
        "id": "gAQUiVVlQAJN"
      },
      "source": [
        "Berapakah prosentase kemunculan karakter `life` dalam lagu tersebut\n",
        "```\n",
        "keterangan:\n",
        "prosentase = (jumlah kemunculan / total karakter) * 100\n",
        "```\n",
        "\n"
      ]
    },
    {
      "cell_type": "code",
      "execution_count": 64,
      "metadata": {
        "colab": {
          "base_uri": "https://localhost:8080/"
        },
        "id": "heFjpG-kPsgb",
        "outputId": "22724e98-1dcf-4af9-8830-5b24d3c91849"
      },
      "outputs": [
        {
          "name": "stdout",
          "output_type": "stream",
          "text": [
            "persentase kemunculan 'life': 1.35\n"
          ]
        }
      ],
      "source": [
        "# definisikan variabel dan hitung prosentase kemunculan karakter life\n",
        "percent_life = n_life * 100 / count_chars\n",
        "\n",
        "# tampilkan prosentase kemunculan karakter life dalam lirik tersebut\n",
        "print(f\"persentase kemunculan 'life': {percent_life:.2f}\")"
      ]
    },
    {
      "cell_type": "markdown",
      "metadata": {
        "id": "bst2q8NH5Xkf"
      },
      "source": [
        "# **Boolean**"
      ]
    },
    {
      "cell_type": "markdown",
      "metadata": {
        "id": "pV7wzBEjHHhJ"
      },
      "source": [
        "Buatlah variabel boolean dengan nama variabel_1 dan variabel_2 masing masing True dan False"
      ]
    },
    {
      "cell_type": "code",
      "execution_count": 65,
      "metadata": {
        "id": "kRorumfKHHx6"
      },
      "outputs": [],
      "source": [
        "# Code in here\n",
        "var_1 = True\n",
        "var_2 = False"
      ]
    },
    {
      "cell_type": "markdown",
      "metadata": {
        "id": "B1HUov5IkbeQ"
      },
      "source": [
        "Gunakan variabel_1 dan variabel_2 sebelumnya dengan operasi boolean tidak sama dengan"
      ]
    },
    {
      "cell_type": "code",
      "execution_count": 66,
      "metadata": {
        "colab": {
          "base_uri": "https://localhost:8080/"
        },
        "id": "3fWIIt-skadj",
        "outputId": "753822c8-21c9-41d1-f2e9-f5d8f8b9005c"
      },
      "outputs": [
        {
          "data": {
            "text/plain": [
              "True"
            ]
          },
          "execution_count": 66,
          "metadata": {},
          "output_type": "execute_result"
        }
      ],
      "source": [
        "# Code in here\n",
        "var_1 != var_2"
      ]
    },
    {
      "cell_type": "markdown",
      "metadata": {
        "id": "turkish-adrian"
      },
      "source": [
        "Cek nilai bolean dari operasi berikut: 10 >= 11"
      ]
    },
    {
      "cell_type": "code",
      "execution_count": 67,
      "metadata": {
        "colab": {
          "base_uri": "https://localhost:8080/"
        },
        "id": "sonic-stephen",
        "outputId": "7c520e12-5ca7-4a12-8610-9d0015b74ce0"
      },
      "outputs": [
        {
          "data": {
            "text/plain": [
              "False"
            ]
          },
          "execution_count": 67,
          "metadata": {},
          "output_type": "execute_result"
        }
      ],
      "source": [
        "# Code in here\n",
        "10 >= 11"
      ]
    },
    {
      "cell_type": "markdown",
      "metadata": {
        "id": "dQfbRJeUnh-Q"
      },
      "source": [
        "Buatlah operasi boolean dengan pernyataan 6 lebih besar 7  dengan  dari 1"
      ]
    },
    {
      "cell_type": "code",
      "execution_count": 37,
      "metadata": {
        "colab": {
          "base_uri": "https://localhost:8080/"
        },
        "id": "YxTYsnU5niEI",
        "outputId": "219a0901-ffe8-4654-88f0-83b2b9db7bad"
      },
      "outputs": [],
      "source": [
        "# Code in here\n"
      ]
    },
    {
      "cell_type": "markdown",
      "metadata": {
        "id": "NamcLGvCoUGy"
      },
      "source": [
        "Ubahlah operator pada operasi boolean diatas sehingga menghasilkan nilai boolean yang berkebalikan "
      ]
    },
    {
      "cell_type": "code",
      "execution_count": 38,
      "metadata": {
        "colab": {
          "base_uri": "https://localhost:8080/"
        },
        "id": "nrAwlbgwoSsd",
        "outputId": "deda9a25-6ff0-4baf-82da-da2ac03cf427"
      },
      "outputs": [],
      "source": [
        "# Code in here\n"
      ]
    },
    {
      "cell_type": "markdown",
      "metadata": {
        "id": "excited-kernel"
      },
      "source": [
        "Masukkan nilai variabel a sehingga nilai boolean dari operasi berikut bernilai True\n",
        "\n"
      ]
    },
    {
      "cell_type": "code",
      "execution_count": 68,
      "metadata": {
        "colab": {
          "base_uri": "https://localhost:8080/"
        },
        "id": "second-teaching",
        "outputId": "0da0999b-bc6d-473d-a628-9f8efea8076c"
      },
      "outputs": [
        {
          "data": {
            "text/plain": [
              "True"
            ]
          },
          "execution_count": 68,
          "metadata": {},
          "output_type": "execute_result"
        }
      ],
      "source": [
        "# Code in here\n",
        "a = 11 #nilai apapun yang melebih atau sama dengan nilai 10\n",
        "b = 10\n",
        "\n",
        "a >= b"
      ]
    },
    {
      "cell_type": "markdown",
      "metadata": {
        "id": "iZt0W0hEldfi"
      },
      "source": [
        "Tambahkan operasi dibawah ini kedalam python menggunakan variabel a dan b sebelumnya\n",
        "\n",
        "    a tidak sama dengan b dan a lebih besar dari b"
      ]
    },
    {
      "cell_type": "code",
      "execution_count": 70,
      "metadata": {
        "id": "H3H67YTBlXar"
      },
      "outputs": [
        {
          "data": {
            "text/plain": [
              "True"
            ]
          },
          "execution_count": 70,
          "metadata": {},
          "output_type": "execute_result"
        }
      ],
      "source": [
        "# Code in here\n",
        "(a != b) & (a > b)"
      ]
    },
    {
      "cell_type": "markdown",
      "metadata": {
        "id": "qAbHlxcUsuWQ"
      },
      "source": [
        "Buatlah variabel angka_1 lalu buatlah sesuai dengan pernyataan operasi berikut\n",
        "\n",
        "    angka_1 lebih besar sama dengan 6 tidak sama dengan angka_1 lebih kecil dari 12 \n",
        "\n",
        "Buatlah agar mengeluarkan output True"
      ]
    },
    {
      "cell_type": "code",
      "execution_count": 71,
      "metadata": {
        "colab": {
          "base_uri": "https://localhost:8080/"
        },
        "id": "1fcN3y_1tK-P",
        "outputId": "ffe615c0-71d0-4867-9611-1ef1f6f3213f"
      },
      "outputs": [
        {
          "data": {
            "text/plain": [
              "True"
            ]
          },
          "execution_count": 71,
          "metadata": {},
          "output_type": "execute_result"
        }
      ],
      "source": [
        "# Code in here\n",
        "angka_1 = 7\n",
        "(angka_1 >= 6) & (angka_1 < 12)"
      ]
    },
    {
      "cell_type": "markdown",
      "metadata": {
        "id": "tHiObgaHtspc"
      },
      "source": [
        "Ubahlah operator tidak sama dengan menjadi operator logic and pada operasi sebelumnya. buatlah agar output booleannya menjadi False:"
      ]
    },
    {
      "cell_type": "code",
      "execution_count": 72,
      "metadata": {
        "colab": {
          "base_uri": "https://localhost:8080/"
        },
        "id": "M89QnpAOt0bW",
        "outputId": "e7166b60-3eca-4ef5-a7c9-f1e544b02365"
      },
      "outputs": [],
      "source": [
        "# Code in here\n"
      ]
    },
    {
      "cell_type": "markdown",
      "metadata": {
        "id": "cubic-fellow"
      },
      "source": [
        "Cek apakah jarak rumah budi ke sekolah 250 meter, lebih jauh dari jarak rumah tono ke sekolah 223 meter. "
      ]
    },
    {
      "cell_type": "code",
      "execution_count": 73,
      "metadata": {
        "colab": {
          "base_uri": "https://localhost:8080/"
        },
        "id": "removed-associate",
        "outputId": "4d728b44-5d9c-43ba-997f-b7aa58fbb27f"
      },
      "outputs": [
        {
          "data": {
            "text/plain": [
              "True"
            ]
          },
          "execution_count": 73,
          "metadata": {},
          "output_type": "execute_result"
        }
      ],
      "source": [
        "# Code in here\n",
        "jarak_rumah_budi = 250 #meter\n",
        "jarak_rumah_tono = 222 #meter\n",
        "\n",
        "jarak_rumah_budi > jarak_rumah_tono"
      ]
    },
    {
      "cell_type": "markdown",
      "metadata": {
        "id": "H8PldLH_jjGm"
      },
      "source": [
        "Cek apakah jika nama Cynthia dan nama Cynth'ia itu sama dengan menggunakan operator boolean"
      ]
    },
    {
      "cell_type": "code",
      "execution_count": 74,
      "metadata": {
        "colab": {
          "base_uri": "https://localhost:8080/"
        },
        "id": "csFF9-MbjkOq",
        "outputId": "87ec4ff8-c60f-4475-dca5-9279a2a6d8d0"
      },
      "outputs": [
        {
          "data": {
            "text/plain": [
              "False"
            ]
          },
          "execution_count": 74,
          "metadata": {},
          "output_type": "execute_result"
        }
      ],
      "source": [
        "# Code in here\n",
        "\"Cynthia\" == \"Cynth'ia\""
      ]
    },
    {
      "cell_type": "markdown",
      "metadata": {
        "id": "comic-sewing"
      },
      "source": [
        "Masukkan nilai ke dalam variable a, b dan c sehingga nilai boolean dari operasi logika berikut menjadi False (untuk angkanya bebas)\n",
        "\n",
        "    (a > b AND a > c ) OR (b < c) "
      ]
    },
    {
      "cell_type": "code",
      "execution_count": 80,
      "metadata": {
        "colab": {
          "base_uri": "https://localhost:8080/"
        },
        "id": "human-dryer",
        "outputId": "f54a04d9-71fa-4c9d-d675-1de49730859c"
      },
      "outputs": [
        {
          "data": {
            "text/plain": [
              "False"
            ]
          },
          "execution_count": 80,
          "metadata": {},
          "output_type": "execute_result"
        }
      ],
      "source": [
        "a = 3\n",
        "b = 5\n",
        "c = 2\n",
        "\n",
        "((a > b) & (a > c)) | (b < c)"
      ]
    },
    {
      "cell_type": "markdown",
      "metadata": {
        "id": "HloDEoZjmgxC"
      },
      "source": [
        "Dengan operasi logika sebelumnya ubah nilai variabel sehingga menjadi True"
      ]
    },
    {
      "cell_type": "code",
      "execution_count": 81,
      "metadata": {
        "colab": {
          "base_uri": "https://localhost:8080/"
        },
        "id": "yxSqM6Xhmd2A",
        "outputId": "d8ab2340-f6c3-46d6-e4f9-754e25159d2a"
      },
      "outputs": [
        {
          "data": {
            "text/plain": [
              "True"
            ]
          },
          "execution_count": 81,
          "metadata": {},
          "output_type": "execute_result"
        }
      ],
      "source": [
        "a = 6\n",
        "b = 2\n",
        "c = 5\n",
        "\n",
        "((a > b) & (a > c)) | (b < c)"
      ]
    },
    {
      "cell_type": "markdown",
      "metadata": {
        "id": "supported-medicare"
      },
      "source": [
        "Cek apakah nilai x lebih kecil atau sama dengan y bila diketahui: y = 3$x^{2}$ + 4x - 27 dan x = 3"
      ]
    },
    {
      "cell_type": "code",
      "execution_count": 82,
      "metadata": {
        "colab": {
          "base_uri": "https://localhost:8080/"
        },
        "id": "colored-rover",
        "outputId": "9c70784b-a85c-469f-a290-351ad6ee4139"
      },
      "outputs": [
        {
          "data": {
            "text/plain": [
              "True"
            ]
          },
          "execution_count": 82,
          "metadata": {},
          "output_type": "execute_result"
        }
      ],
      "source": [
        "# Code in here\n",
        "x = 3\n",
        "y = 3 * x**2 + 4*x - 27\n",
        "x <= y"
      ]
    },
    {
      "cell_type": "markdown",
      "metadata": {
        "id": "modular-yellow"
      },
      "source": [
        "Dari soal sebelumnya, jika ditambahkan nilai z = 3x + 5$y^{2}$ - 18, tentukan hasil operasi berikut :\n",
        "\n",
        "    (z > y) AND (x < z OR x >= y) "
      ]
    },
    {
      "cell_type": "code",
      "execution_count": 83,
      "metadata": {
        "colab": {
          "base_uri": "https://localhost:8080/"
        },
        "id": "compressed-escape",
        "outputId": "db132f9b-5e49-4d81-8745-bd75c30120bb"
      },
      "outputs": [
        {
          "data": {
            "text/plain": [
              "True"
            ]
          },
          "execution_count": 83,
          "metadata": {},
          "output_type": "execute_result"
        }
      ],
      "source": [
        "# Code in here\n",
        "z = 3*x + 5*y**2 -18\n",
        "(z > y) & (x < z | x >= y)"
      ]
    },
    {
      "cell_type": "markdown",
      "metadata": {
        "id": "pJQ8k5ggo73z"
      },
      "source": [
        "<details>\n",
        "    <summary><b>Klik untuk melihat kunci jawaban</b></summary>\n",
        "\n",
        "```python\n",
        "z = 3*x + 5*y**2 - 18\n",
        "\n",
        "(z>y) and (x<z or x >=y)\n",
        "```\n",
        "\n",
        "</details>\n",
        "\n",
        "---"
      ]
    },
    {
      "cell_type": "markdown",
      "metadata": {
        "id": "W65cBNPX7GPz"
      },
      "source": [
        "# **Branching**"
      ]
    },
    {
      "cell_type": "markdown",
      "metadata": {
        "id": "revolutionary-layer"
      },
      "source": [
        "Buatlah program yang menentukan apakah seseorang dapat membuat SIM atau tidak. Batas usia minimum pembuatan SIM adalah 18 tahun."
      ]
    },
    {
      "cell_type": "code",
      "execution_count": 84,
      "metadata": {
        "id": "noticed-refund"
      },
      "outputs": [
        {
          "name": "stdout",
          "output_type": "stream",
          "text": [
            "Anda sudah diperbolehkan untuk membuat SIM\n"
          ]
        }
      ],
      "source": [
        "# Code in here\n",
        "usia = int(input(\"Masukkan usia Anda :\"))\n",
        "\n",
        "if usia >= 18:\n",
        "    print(\"Anda sudah diperbolehkan untuk membuat SIM\")\n",
        "else:\n",
        "    print(\"Anda belum diperbolehkan untuk membuat SIM\")"
      ]
    },
    {
      "cell_type": "markdown",
      "metadata": {
        "id": "circular-production"
      },
      "source": [
        "Buat program yang mengecek apakah sebuah variable memiliki tipe data string, float atau integer"
      ]
    },
    {
      "cell_type": "code",
      "execution_count": 89,
      "metadata": {
        "colab": {
          "base_uri": "https://localhost:8080/"
        },
        "id": "regulated-pendant",
        "outputId": "47bf8342-3e02-4086-ff31-2940c0f84a66"
      },
      "outputs": [
        {
          "name": "stdout",
          "output_type": "stream",
          "text": [
            "<class 'float'>\n"
          ]
        }
      ],
      "source": [
        "# Code in here\n",
        "\n",
        "var = 123.123\n",
        "\n",
        "print(type(var))"
      ]
    },
    {
      "cell_type": "markdown",
      "metadata": {
        "id": "forbidden-violation"
      },
      "source": [
        "Buatlah program yang mengecek apakah sebuah bilangan habis di bagi 5 atau tidak "
      ]
    },
    {
      "cell_type": "code",
      "execution_count": 91,
      "metadata": {
        "colab": {
          "base_uri": "https://localhost:8080/"
        },
        "id": "lypwfifBy303",
        "outputId": "9f25e83e-5ecb-4ad1-aeeb-c079bcf579b2"
      },
      "outputs": [
        {
          "name": "stdout",
          "output_type": "stream",
          "text": [
            "32 tidak habis dibagi 5\n"
          ]
        }
      ],
      "source": [
        "# Code in here\n",
        "\n",
        "angka_1 = 32\n",
        "\n",
        "def factor_of_five(number):\n",
        "    return f\"{number} habis dibagi 5\" if number % 5 == 0 else f\"{number} tidak habis dibagi 5\"\n",
        "\n",
        "print(factor_of_five(angka_1))"
      ]
    },
    {
      "cell_type": "markdown",
      "metadata": {
        "id": "twenty-socket"
      },
      "source": [
        "Cek yang manakah paragraf di bawah ini yang memilik jumlah karakter lebih banyak?\n",
        "\n",
        "    lirik_1 = \n",
        "            \"This ain't a song for the broken-hearted No silent prayer for faith-departed And I ain't gonna be just a face in the crowd You're gonna hear my voice when I shout it out loud\"\n",
        "            \n",
        "    lirik_2 = \n",
        "            \"Yeah, this is for the ones who stood their ground For Tommy and Gina,\n",
        "            who never backed down Tomorrow's getting harder, make no mistake Luck\n",
        "            ain't even lucky, got to make your own breaks\""
      ]
    },
    {
      "cell_type": "code",
      "execution_count": 93,
      "metadata": {
        "colab": {
          "base_uri": "https://localhost:8080/"
        },
        "id": "nominated-sitting",
        "outputId": "3b8a9cd1-ccbb-411a-d513-74a4bdda5d65"
      },
      "outputs": [
        {
          "name": "stdout",
          "output_type": "stream",
          "text": [
            "lirik_2 memiliki karakter lebih banyak\n"
          ]
        }
      ],
      "source": [
        "# Code in here\n",
        "\n",
        "lirik_1 = '''This ain't a song for the broken-hearted \n",
        "No silent prayer for faith-departed And I ain't gonna be just \n",
        "a face in the crowd You're gonna hear my voice when I shout it out loud'''\n",
        "lirik_2 = '''\n",
        "Yeah, this is for the ones who stood their ground For Tommy and Gina, who \n",
        "never backed down Tomorrow's getting harder, \n",
        "make no mistake Luck ain't even lucky, got to make your own breaks'''\n",
        "\n",
        "karakter_lebih_banyak = \"lirik_1 memiliki karakter lebih banyak\" if len(lirik_1) > len(lirik_2) else \"lirik_2 memiliki karakter lebih banyak\"\n",
        "print(karakter_lebih_banyak)"
      ]
    },
    {
      "cell_type": "markdown",
      "metadata": {
        "id": "polish-telling"
      },
      "source": [
        "Minimaket \"AAA\" memberikan diskon 10% bagi pelanggan yang total belanjannya diatas Rp. 100.000. Ani belanja di minimarket A dengan rincian belanja sebagai berikut:\n",
        "\n",
        "\n",
        "| barang      | Sub total harga  |\n",
        "|-------------|--------|\n",
        "| 1 Sabun Mandi | 25000  |\n",
        "| 2 Sabun Cuci| 2 x 18000 |\n",
        "| 1 Kotak Susu | 48000  |\n",
        "| 2 Pasta Gigi | 2 x 11000  |\n",
        "\n",
        "\n",
        "\n",
        "Buat program yang menentukan apakah total belanja Ani mendapat diskon atau tidak. Cetak total belanja yang harus di bayar Ani."
      ]
    },
    {
      "cell_type": "code",
      "execution_count": 97,
      "metadata": {
        "colab": {
          "base_uri": "https://localhost:8080/"
        },
        "id": "handy-perfume",
        "outputId": "965ceda5-0f48-4ded-c2cb-3df9c4cdbb8d"
      },
      "outputs": [
        {
          "name": "stdout",
          "output_type": "stream",
          "text": [
            "Anda mendapatkan diskon sebesar 10%. Total belanja yang harus Anda bayar: 117900.0\n"
          ]
        }
      ],
      "source": [
        "# Code in here\n",
        "belanjaan_ani = {\"sabun mandi\": 25000, \"sabun cuci\": 2*18000, \"susu\": 48000, \"pasta gigi\": 2*11000}\n",
        "\n",
        "def pembayaran(belanja):\n",
        "    total_belanja = sum(belanja.values())\n",
        "    \n",
        "    if total_belanja > 100000:\n",
        "        total_stlh_diskon = total_belanja * (1 - 0.1)\n",
        "        return f\"Anda mendapatkan diskon sebesar 10%. Total belanja yang harus Anda bayar: {total_stlh_diskon}\"\n",
        "    \n",
        "    return f\"Anda tidak mendapatkan diskon. Total belanja yang harus Anda bayar: {total_belanja}\"\n",
        "\n",
        "print(pembayaran(belanjaan_ani))\n"
      ]
    },
    {
      "cell_type": "markdown",
      "metadata": {
        "id": "racial-prefix"
      },
      "source": [
        "Buatlah program yang menentukan kategori generasi seseorang berdasarkan tahun lahirnya. Kondisi pengkategoriannya sebagai berikut:\n",
        " - Baby boomer, kelahiran 1944 s.d 1964\n",
        " - Generasi X, kelahiran 1965 s.d 1979\n",
        " - Generasi Y (Millenials), kelahiran 1980 s.d 1994\n",
        " - Generasi Z, kelahiran 1995 s.d 2015"
      ]
    },
    {
      "cell_type": "code",
      "execution_count": 100,
      "metadata": {
        "colab": {
          "base_uri": "https://localhost:8080/"
        },
        "id": "least-valve",
        "outputId": "f71c2cbb-8461-42a5-946c-25d92fed6ed1"
      },
      "outputs": [
        {
          "name": "stdout",
          "output_type": "stream",
          "text": [
            "Generasi X\n"
          ]
        }
      ],
      "source": [
        "# Code in here\n",
        "umur = int(input(\"Masukkan tahun lahir Anda: \"))\n",
        "\n",
        "def tebak_generasi(usia):\n",
        "    if usia <= 1964:\n",
        "        return \"Baby boomer\"\n",
        "    elif usia <= 1979:\n",
        "        return \"Generasi X\"\n",
        "    elif usia <= 1994:\n",
        "        return \"Generasi Y\"\n",
        "    else:\n",
        "        return \"Generasi Z\"\n",
        "\n",
        "print(tebak_generasi(umur))"
      ]
    },
    {
      "cell_type": "markdown",
      "metadata": {
        "id": "sapphire-springer"
      },
      "source": [
        "Dinas Kesehatan ingin melakukan vaksinasi tahap 1, dengan syarat, warga yang akan di vaksin berprofesi sebagai petugas pelayanan umum seperti TNI, Polri Perawat atau Dokter. Di luar profesi tersebut maka ia bukan prioritas program vaksinasi. Jika usia petugas pelayanan umum kurang dari 50 tahun maka akan di berikan vaksin buatan Sinovac namun jika berusia 50 tahun ke atas maka akan diberikan vaksin Novavax.\n",
        "\n",
        "note: soal di atas hanya fiktif\n"
      ]
    },
    {
      "cell_type": "code",
      "execution_count": 106,
      "metadata": {
        "colab": {
          "base_uri": "https://localhost:8080/"
        },
        "id": "solid-highway",
        "outputId": "7cb639f0-c8aa-490f-d01c-c19c56efb066"
      },
      "outputs": [
        {
          "name": "stdout",
          "output_type": "stream",
          "text": [
            "Mohon maaf Anda belum termasuk prioritas vaksin untuk saat ini\n"
          ]
        }
      ],
      "source": [
        "# Code in here\n",
        "def vaksinasi(profesi, usia):\n",
        "    prioritas = [\"TNI\", \"POLRI\", \"PERAWAT\", \"DOKTER\"]\n",
        "    \n",
        "    if profesi.upper() in prioritas:\n",
        "        if usia < 50:\n",
        "            print(f\"Anda akan diberikan vaksin Sinovac\")\n",
        "            return\n",
        "        print(f\"Anda akan diberikan vaksin Novavax\")\n",
        "        return\n",
        "\n",
        "    print(\"Mohon maaf Anda belum termasuk prioritas vaksin untuk saat ini\")\n",
        "\n",
        "vaksinasi(\"konsultan\", 49)"
      ]
    },
    {
      "cell_type": "markdown",
      "metadata": {
        "id": "possible-bridges"
      },
      "source": [
        "Buatlah program yang menerima input bilangan (x), kemudian akan melakukan perintah berikut:\n",
        "- n bernilai 8\n",
        "- Jika x ganjil, maka print \"ganjil\"\n",
        "- Jika x genap dan berada pada rentang 2 sampai 7, print (genap di bawah 7)\n",
        "- Jika x genap dan berada pada rentang 8 sampai 28, print (genap antara 8-28)\n",
        "- Jika x genap dan lebih besar dari 28, print (genap antara ditas 28)"
      ]
    },
    {
      "cell_type": "code",
      "execution_count": 113,
      "metadata": {
        "colab": {
          "base_uri": "https://localhost:8080/"
        },
        "id": "excess-binary",
        "outputId": "80e927ff-413f-4133-fedb-f8c8b3c98ee8"
      },
      "outputs": [
        {
          "name": "stdout",
          "output_type": "stream",
          "text": [
            "Ganjil\n"
          ]
        }
      ],
      "source": [
        "# Code in here\n",
        "def categorize_number(number):\n",
        "    if number % 2 != 0:\n",
        "        print(\"Ganjil\")\n",
        "        return\n",
        "    \n",
        "    if 2 < number < 7:\n",
        "        print(\"Genap di bawah 7\")\n",
        "        return\n",
        "    if 8 < number < 28:\n",
        "        print(\"Genap antara 8-28\")\n",
        "        return\n",
        "    if number > 28:\n",
        "        print(\"Genap di atas 28\")\n",
        "        return\n",
        "\n",
        "angka = int(input(\"Masukkan sebuah angka\"))\n",
        "categorize_number(angka)"
      ]
    },
    {
      "cell_type": "markdown",
      "metadata": {
        "id": "buried-seven"
      },
      "source": [
        "Buatlah program yang mengkonversi nilai 1-100 kedalam bentuk nilai (A, B, C, D, F). dengan syarat:\n",
        "\n",
        "- Nilai 90 hingga 100 dikonversi menjadi A\n",
        "- Nilai 80 hingga 89 dikonversi menjadi B\n",
        "- Nilai 70 hingga 79 dikonversi menjadi C\n",
        "- Nilai 65 hingga 69 dikonversi menjadi D\n",
        "- dan dibawah nilai 65 dikonversi menjadi F"
      ]
    },
    {
      "cell_type": "code",
      "execution_count": 114,
      "metadata": {
        "colab": {
          "base_uri": "https://localhost:8080/"
        },
        "id": "enhanced-bulgaria",
        "outputId": "db12e104-f267-419c-f5cb-1a022d8b943a"
      },
      "outputs": [
        {
          "name": "stdout",
          "output_type": "stream",
          "text": [
            "F\n"
          ]
        }
      ],
      "source": [
        "# Code in here\n",
        "def konversi_nilai(nilai):\n",
        "    if nilai > 90:\n",
        "        print(\"A\")\n",
        "    elif nilai > 80:\n",
        "        print(\"B\")\n",
        "    elif nilai > 70:\n",
        "        print(\"C\")\n",
        "    elif nilai > 65:\n",
        "        print(\"D\")\n",
        "    else:\n",
        "        print(\"F\")\n",
        "\n",
        "konversi_nilai(65)"
      ]
    },
    {
      "cell_type": "markdown",
      "metadata": {
        "id": "39955d1e"
      },
      "source": [
        "Diberikan tiga buah variabel a, b dan c yang masing-masing berisi nilai integer. Tentukan yang variabel manakah yang memiliki nilai terbesar?"
      ]
    },
    {
      "cell_type": "code",
      "execution_count": 121,
      "metadata": {
        "colab": {
          "base_uri": "https://localhost:8080/"
        },
        "id": "8d820edb",
        "outputId": "cfaa79c6-330c-4ffc-bd67-336b89a4d4e6"
      },
      "outputs": [
        {
          "name": "stdout",
          "output_type": "stream",
          "text": [
            "54\n"
          ]
        }
      ],
      "source": [
        "# Code in here\n",
        "def find_max(*numbers):\n",
        "    \"\"\"\n",
        "    Takes multiple args\n",
        "    returns largest numbers\n",
        "    \"\"\"\n",
        "    largest = numbers[0]\n",
        "    for number in numbers:\n",
        "        if largest < number:\n",
        "            largest = number\n",
        "\n",
        "    print(largest)\n",
        "\n",
        "find_max(10, 54, -1)"
      ]
    },
    {
      "cell_type": "markdown",
      "metadata": {
        "id": "f0f2a8b0"
      },
      "source": [
        "Buatlah program yang menentukan apakah sebuah nilai merupakan bilangan negatif, positif, atau nol."
      ]
    },
    {
      "cell_type": "code",
      "execution_count": 124,
      "metadata": {
        "colab": {
          "base_uri": "https://localhost:8080/"
        },
        "id": "dfd3a3a4",
        "outputId": "1829222f-e585-4edb-947d-cf5a98e5ec2a"
      },
      "outputs": [
        {
          "name": "stdout",
          "output_type": "stream",
          "text": [
            "Zero\n"
          ]
        }
      ],
      "source": [
        "# Code in here\n",
        "def natural_number(number):\n",
        "    \"\"\"\n",
        "    Takes a number and specify whether it is\\n\n",
        "    positive, negative, or zero.\n",
        "    \"\"\"\n",
        "    if number < 0:\n",
        "        print(\"Negative\")\n",
        "    elif number > 0:\n",
        "        print(\"Positive\")\n",
        "    else:\n",
        "        print(\"Zero\")\n",
        "\n",
        "natural_number(0)"
      ]
    },
    {
      "cell_type": "markdown",
      "metadata": {
        "id": "CMiCeA3HlZqz"
      },
      "source": [
        "Buatlah program untuk mencari siapa yang tertua dari 3 orang.\n",
        "   \n",
        "    * Input: \n",
        "    ```\n",
        "        orang_1 = 40 \n",
        "        orang_2 = 25 \n",
        "        orang_3 = 37\n",
        "    ```\n",
        "    * Output:\n",
        "        ```\n",
        "        Orang yang tertua adalah orang pertama\n",
        "        ```"
      ]
    },
    {
      "cell_type": "code",
      "execution_count": 133,
      "metadata": {
        "colab": {
          "base_uri": "https://localhost:8080/"
        },
        "id": "FZFVKl5-O4mS",
        "outputId": "447fd7af-8268-44b9-8d6b-06195ebb792b"
      },
      "outputs": [
        {
          "name": "stdout",
          "output_type": "stream",
          "text": [
            "Orang tertua adalah orang ke-1\n"
          ]
        }
      ],
      "source": [
        "# Code in here\n",
        "def tentukan_tertua(*usia):\n",
        "    tertua = usia[0]\n",
        "    for umur in usia:\n",
        "        if tertua < umur:\n",
        "            tertua = umur\n",
        "\n",
        "    print(f\"Orang tertua adalah orang ke-{usia.index(tertua)+1}\")\n",
        "\n",
        "orang_1 = 40\n",
        "orang_2 = 25\n",
        "orang_3 = 37\n",
        "\n",
        "tentukan_tertua(orang_1, orang_2, orang_3)"
      ]
    },
    {
      "cell_type": "markdown",
      "metadata": {
        "id": "VVbD3Fl6lc6x"
      },
      "source": [
        "Sebuah perusahaan akan memberikan bonus 10% dari gaji masing-masing pegawai kepada pegawainya jika pegawainya telah bekerja selama minimal 5 tahun.\n",
        "\n",
        "    * Input:\n",
        "```\n",
        "kasus 1: gaji = 5000 ; masa bakti = 2\n",
        "kasus 2: gaji = 10000; masa bakti = 6\n",
        "```\n",
        "    * Output:\n",
        "```\n",
        "kasus 1: Tidak ada bonus\n",
        "kasus 2: Bonus adalah 500\n",
        "```\n",
        "\n",
        "\n",
        "\n"
      ]
    },
    {
      "cell_type": "code",
      "execution_count": 134,
      "metadata": {
        "id": "I87z6HV3lgYe"
      },
      "outputs": [
        {
          "name": "stdout",
          "output_type": "stream",
          "text": [
            "Mohon maaf Anda belum berhak mendapatkan bonus\n",
            "Anda mendapatkan bonus sebesar 1000.0\n"
          ]
        }
      ],
      "source": [
        "# Code in here\n",
        "\n",
        "def bonus(gaji, masa_bakti):\n",
        "    if masa_bakti >= 5:\n",
        "        print(f\"Anda mendapatkan bonus sebesar {gaji*0.1}\")\n",
        "        return\n",
        "    print(\"Mohon maaf Anda belum berhak mendapatkan bonus\")\n",
        "\n",
        "bonus(5000, 2)\n",
        "bonus(10000, 6)"
      ]
    },
    {
      "cell_type": "markdown",
      "metadata": {
        "id": "JDtYMov1Qocx"
      },
      "source": [
        "Buatlah Program Nested Branching Menentukan tahun kabisat dengan ketentuan \n",
        "\n",
        "1. Jika satu tahun habis dibagi 4 dan tidak ada sisa, lanjutkan ke langkah berikutnya. Jika tidak habis dibagi 4. Bukan tahun kabisat.\n",
        "2. Jika suatu tahun habis dibagi 4, tetapi tidak habis dibagi 100, itu adalah tahun kabisat. Jika satu tahun habis dibagi 4 dan 100, lanjutkan ke langkah berikutnya.\n",
        "3. Jika suatu tahun habis dibagi 100, tetapi tidak habis dibagi 400 maka itu bukan tahun kabisat. Jika tahun habis dibagi keduanya maka tahun tersebut adalah tahun kabisat.\n",
        "\n",
        "    * Input:\n",
        "```\n",
        "kasus 1: tahun = 2024\n",
        "kasus 2: tahun = 2013\n",
        "```\n",
        "    * Output:\n",
        "```\n",
        "kasus 1: 2024 adalah tahun kabisat\n",
        "kasus 2: 2013 bukan tahun kabisat\n",
        "```\n"
      ]
    },
    {
      "cell_type": "code",
      "execution_count": 135,
      "metadata": {
        "colab": {
          "base_uri": "https://localhost:8080/"
        },
        "id": "K88wMzUZQohm",
        "outputId": "d020c760-5dbe-4adf-e02a-e11c0ddd9076"
      },
      "outputs": [
        {
          "name": "stdout",
          "output_type": "stream",
          "text": [
            "2024 adalah tahun kabisat\n",
            "2013 bukan tahun kabisat\n"
          ]
        }
      ],
      "source": [
        "# Code in here\n",
        "def kabisat(tahun):\n",
        "    if tahun % 4 != 0:\n",
        "        print(f\"{tahun} bukan tahun kabisat\")\n",
        "    else:\n",
        "        if tahun % 100 != 0:\n",
        "            print(f\"{tahun} adalah tahun kabisat\")\n",
        "        else:\n",
        "            if tahun % 400 != 400:\n",
        "                print(f\"{tahun} bukan tahun kabisat\")\n",
        "            else:\n",
        "                print(f\"{tahun} adalah tahun kabisat\")\n",
        "\n",
        "kabisat(2024)\n",
        "kabisat(2013)"
      ]
    },
    {
      "cell_type": "markdown",
      "metadata": {
        "id": "Rp7OFF9iht__"
      },
      "source": [
        "Buatlah program nested branching menentukan nilai\n",
        "  1. Jika presensi kurang dari atau sama dengan tiga, lanjut ke langkah berikutnya\n",
        "  2. Jika avarage nilai lebih atau sama dengan 80 maka \"nilai A\"\n",
        "  3. Jika avarage nilai lebih atau sama dengan 70 maka \"nilai B\"\n",
        "  4. Jika avarage nilai lebih atau sama dengan 60 maka \"nilai C\"\n",
        "  5. Lainnya maka \"nilai D\"\n",
        "  6. Jika presensi lebih dari itu maka \"nilai X\"\n",
        "\n",
        "\n",
        "    * Input:\n",
        "```\n",
        "skenario 1: presensi = 2 ; average_nilai = 80\n",
        "skenario 2: presensi = 4 ; average_nilai = 70\n",
        "```\n",
        "    * Output:\n",
        "```\n",
        "skenario 1: nilai A\n",
        "skenario 2: nilai X\n",
        "```"
      ]
    },
    {
      "cell_type": "code",
      "execution_count": 136,
      "metadata": {
        "colab": {
          "base_uri": "https://localhost:8080/"
        },
        "id": "qy_Q8sO3WOOk",
        "outputId": "1fb946de-c320-4a63-ee50-adec5662febe"
      },
      "outputs": [
        {
          "name": "stdout",
          "output_type": "stream",
          "text": [
            "nilai A\n",
            "nilai X\n"
          ]
        }
      ],
      "source": [
        "# Code in here\n",
        "def nilai(presensi, rerata):\n",
        "    if presensi <= 3:\n",
        "        if rerata >= 80:\n",
        "            print(\"nilai A\")\n",
        "        elif rerata >= 70:\n",
        "            print(\"nilai B\")\n",
        "        elif rerata >= 60:\n",
        "            print(\"nilai C\")\n",
        "        else:\n",
        "            print(\"niali D\")\n",
        "    else:\n",
        "        print(\"nilai X\")\n",
        "\n",
        "nilai(2, 80)\n",
        "nilai(4, 70)"
      ]
    },
    {
      "cell_type": "code",
      "execution_count": null,
      "metadata": {},
      "outputs": [],
      "source": []
    }
  ],
  "metadata": {
    "colab": {
      "collapsed_sections": [
        "m5QOOvTf2Bwh",
        "6N5UncOIc9LV",
        "Bl7cpaT_3CQH",
        "QirB5sOejIaM",
        "3xyw_MqCkY-W",
        "EZRXmeX_kvsf",
        "tUfNfupJ3xsj",
        "bst2q8NH5Xkf",
        "W65cBNPX7GPz"
      ],
      "provenance": []
    },
    "kernelspec": {
      "display_name": "Python 3.10.7 64-bit",
      "language": "python",
      "name": "python3"
    },
    "language_info": {
      "codemirror_mode": {
        "name": "ipython",
        "version": 3
      },
      "file_extension": ".py",
      "mimetype": "text/x-python",
      "name": "python",
      "nbconvert_exporter": "python",
      "pygments_lexer": "ipython3",
      "version": "3.10.7"
    },
    "vscode": {
      "interpreter": {
        "hash": "b56bdd541f4dd53dc090db587cebbea2780bf99bf2bbd1c72f453673f286369f"
      }
    }
  },
  "nbformat": 4,
  "nbformat_minor": 0
}
